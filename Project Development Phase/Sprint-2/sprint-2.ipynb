{
  "cells": [
    {
      "cell_type": "markdown",
      "id": "75KTKNrbxmOu",
      "metadata": {
        "id": "75KTKNrbxmOu"
      },
      "source": [
        "           \n",
        "## Visualizing and Predicting Heart Disease with an Interactive Dashboard                    \n",
        "                                        "
      ]
    },
    {
      "cell_type": "code",
      "execution_count": 1,
      "id": "d4c40647",
      "metadata": {
        "_cell_guid": "b1076dfc-b9ad-4769-8c92-a6c4dae69d19",
        "_uuid": "8f2839f25d086af736a60e9eeb907d3b93b6e0e5",
        "execution": {
          "iopub.execute_input": "2022-09-16T11:22:52.672785Z",
          "iopub.status.busy": "2022-09-16T11:22:52.672001Z",
          "iopub.status.idle": "2022-09-16T11:22:53.683093Z",
          "shell.execute_reply": "2022-09-16T11:22:53.682087Z"
        },
        "id": "d4c40647",
        "papermill": {
          "duration": 1.033851,
          "end_time": "2022-09-16T11:22:53.685881",
          "exception": false,
          "start_time": "2022-09-16T11:22:52.652030",
          "status": "completed"
        },
        "tags": []
      },
      "outputs": [],
      "source": [
        "import pandas as pd\n",
        "import numpy as np\n",
        "import matplotlib.pyplot as plt\n",
        "import seaborn as sns"
      ]
    },
    {
      "cell_type": "markdown",
      "id": "WrWlkqL0Mghb",
      "metadata": {
        "id": "WrWlkqL0Mghb"
      },
      "source": [
        "***Data Loading***"
      ]
    },
    {
      "cell_type": "code",
      "execution_count": 2,
      "id": "f4658aff",
      "metadata": {
        "colab": {
          "base_uri": "https://localhost:8080/",
          "height": 322
        },
        "execution": {
          "iopub.execute_input": "2022-09-16T11:22:53.756885Z",
          "iopub.status.busy": "2022-09-16T11:22:53.756451Z",
          "iopub.status.idle": "2022-09-16T11:22:53.801943Z",
          "shell.execute_reply": "2022-09-16T11:22:53.800822Z"
        },
        "id": "f4658aff",
        "outputId": "3acc215b-a17f-47ba-a030-e71a0c27ce4e",
        "papermill": {
          "duration": 0.067074,
          "end_time": "2022-09-16T11:22:53.805260",
          "exception": false,
          "start_time": "2022-09-16T11:22:53.738186",
          "status": "completed"
        },
        "tags": []
      },
      "outputs": [
        {
          "data": {
            "text/html": [
              "\n",
              "  <div id=\"df-01b161e2-b0cd-4a72-b7d6-ee7fec15a6ab\">\n",
              "    <div class=\"colab-df-container\">\n",
              "      <div>\n",
              "<style scoped>\n",
              "    .dataframe tbody tr th:only-of-type {\n",
              "        vertical-align: middle;\n",
              "    }\n",
              "\n",
              "    .dataframe tbody tr th {\n",
              "        vertical-align: top;\n",
              "    }\n",
              "\n",
              "    .dataframe thead th {\n",
              "        text-align: right;\n",
              "    }\n",
              "</style>\n",
              "<table border=\"1\" class=\"dataframe\">\n",
              "  <thead>\n",
              "    <tr style=\"text-align: right;\">\n",
              "      <th></th>\n",
              "      <th>Age</th>\n",
              "      <th>Sex</th>\n",
              "      <th>Chest pain type</th>\n",
              "      <th>BP</th>\n",
              "      <th>Cholesterol</th>\n",
              "      <th>FBS over 120</th>\n",
              "      <th>EKG results</th>\n",
              "      <th>Max HR</th>\n",
              "      <th>Exercise angina</th>\n",
              "      <th>ST depression</th>\n",
              "      <th>Slope of ST</th>\n",
              "      <th>Number of vessels fluro</th>\n",
              "      <th>Thallium</th>\n",
              "      <th>Heart Disease</th>\n",
              "    </tr>\n",
              "  </thead>\n",
              "  <tbody>\n",
              "    <tr>\n",
              "      <th>0</th>\n",
              "      <td>70</td>\n",
              "      <td>1</td>\n",
              "      <td>4</td>\n",
              "      <td>130</td>\n",
              "      <td>322</td>\n",
              "      <td>0</td>\n",
              "      <td>2</td>\n",
              "      <td>109</td>\n",
              "      <td>0</td>\n",
              "      <td>2.4</td>\n",
              "      <td>2</td>\n",
              "      <td>3</td>\n",
              "      <td>3</td>\n",
              "      <td>Presence</td>\n",
              "    </tr>\n",
              "    <tr>\n",
              "      <th>1</th>\n",
              "      <td>67</td>\n",
              "      <td>0</td>\n",
              "      <td>3</td>\n",
              "      <td>115</td>\n",
              "      <td>564</td>\n",
              "      <td>0</td>\n",
              "      <td>2</td>\n",
              "      <td>160</td>\n",
              "      <td>0</td>\n",
              "      <td>1.6</td>\n",
              "      <td>2</td>\n",
              "      <td>0</td>\n",
              "      <td>7</td>\n",
              "      <td>Absence</td>\n",
              "    </tr>\n",
              "    <tr>\n",
              "      <th>2</th>\n",
              "      <td>57</td>\n",
              "      <td>1</td>\n",
              "      <td>2</td>\n",
              "      <td>124</td>\n",
              "      <td>261</td>\n",
              "      <td>0</td>\n",
              "      <td>0</td>\n",
              "      <td>141</td>\n",
              "      <td>0</td>\n",
              "      <td>0.3</td>\n",
              "      <td>1</td>\n",
              "      <td>0</td>\n",
              "      <td>7</td>\n",
              "      <td>Presence</td>\n",
              "    </tr>\n",
              "    <tr>\n",
              "      <th>3</th>\n",
              "      <td>64</td>\n",
              "      <td>1</td>\n",
              "      <td>4</td>\n",
              "      <td>128</td>\n",
              "      <td>263</td>\n",
              "      <td>0</td>\n",
              "      <td>0</td>\n",
              "      <td>105</td>\n",
              "      <td>1</td>\n",
              "      <td>0.2</td>\n",
              "      <td>2</td>\n",
              "      <td>1</td>\n",
              "      <td>7</td>\n",
              "      <td>Absence</td>\n",
              "    </tr>\n",
              "    <tr>\n",
              "      <th>4</th>\n",
              "      <td>74</td>\n",
              "      <td>0</td>\n",
              "      <td>2</td>\n",
              "      <td>120</td>\n",
              "      <td>269</td>\n",
              "      <td>0</td>\n",
              "      <td>2</td>\n",
              "      <td>121</td>\n",
              "      <td>1</td>\n",
              "      <td>0.2</td>\n",
              "      <td>1</td>\n",
              "      <td>1</td>\n",
              "      <td>3</td>\n",
              "      <td>Absence</td>\n",
              "    </tr>\n",
              "  </tbody>\n",
              "</table>\n",
              "</div>\n",
              "      <button class=\"colab-df-convert\" onclick=\"convertToInteractive('df-01b161e2-b0cd-4a72-b7d6-ee7fec15a6ab')\"\n",
              "              title=\"Convert this dataframe to an interactive table.\"\n",
              "              style=\"display:none;\">\n",
              "        \n",
              "  <svg xmlns=\"http://www.w3.org/2000/svg\" height=\"24px\"viewBox=\"0 0 24 24\"\n",
              "       width=\"24px\">\n",
              "    <path d=\"M0 0h24v24H0V0z\" fill=\"none\"/>\n",
              "    <path d=\"M18.56 5.44l.94 2.06.94-2.06 2.06-.94-2.06-.94-.94-2.06-.94 2.06-2.06.94zm-11 1L8.5 8.5l.94-2.06 2.06-.94-2.06-.94L8.5 2.5l-.94 2.06-2.06.94zm10 10l.94 2.06.94-2.06 2.06-.94-2.06-.94-.94-2.06-.94 2.06-2.06.94z\"/><path d=\"M17.41 7.96l-1.37-1.37c-.4-.4-.92-.59-1.43-.59-.52 0-1.04.2-1.43.59L10.3 9.45l-7.72 7.72c-.78.78-.78 2.05 0 2.83L4 21.41c.39.39.9.59 1.41.59.51 0 1.02-.2 1.41-.59l7.78-7.78 2.81-2.81c.8-.78.8-2.07 0-2.86zM5.41 20L4 18.59l7.72-7.72 1.47 1.35L5.41 20z\"/>\n",
              "  </svg>\n",
              "      </button>\n",
              "      \n",
              "  <style>\n",
              "    .colab-df-container {\n",
              "      display:flex;\n",
              "      flex-wrap:wrap;\n",
              "      gap: 12px;\n",
              "    }\n",
              "\n",
              "    .colab-df-convert {\n",
              "      background-color: #E8F0FE;\n",
              "      border: none;\n",
              "      border-radius: 50%;\n",
              "      cursor: pointer;\n",
              "      display: none;\n",
              "      fill: #1967D2;\n",
              "      height: 32px;\n",
              "      padding: 0 0 0 0;\n",
              "      width: 32px;\n",
              "    }\n",
              "\n",
              "    .colab-df-convert:hover {\n",
              "      background-color: #E2EBFA;\n",
              "      box-shadow: 0px 1px 2px rgba(60, 64, 67, 0.3), 0px 1px 3px 1px rgba(60, 64, 67, 0.15);\n",
              "      fill: #174EA6;\n",
              "    }\n",
              "\n",
              "    [theme=dark] .colab-df-convert {\n",
              "      background-color: #3B4455;\n",
              "      fill: #D2E3FC;\n",
              "    }\n",
              "\n",
              "    [theme=dark] .colab-df-convert:hover {\n",
              "      background-color: #434B5C;\n",
              "      box-shadow: 0px 1px 3px 1px rgba(0, 0, 0, 0.15);\n",
              "      filter: drop-shadow(0px 1px 2px rgba(0, 0, 0, 0.3));\n",
              "      fill: #FFFFFF;\n",
              "    }\n",
              "  </style>\n",
              "\n",
              "      <script>\n",
              "        const buttonEl =\n",
              "          document.querySelector('#df-01b161e2-b0cd-4a72-b7d6-ee7fec15a6ab button.colab-df-convert');\n",
              "        buttonEl.style.display =\n",
              "          google.colab.kernel.accessAllowed ? 'block' : 'none';\n",
              "\n",
              "        async function convertToInteractive(key) {\n",
              "          const element = document.querySelector('#df-01b161e2-b0cd-4a72-b7d6-ee7fec15a6ab');\n",
              "          const dataTable =\n",
              "            await google.colab.kernel.invokeFunction('convertToInteractive',\n",
              "                                                     [key], {});\n",
              "          if (!dataTable) return;\n",
              "\n",
              "          const docLinkHtml = 'Like what you see? Visit the ' +\n",
              "            '<a target=\"_blank\" href=https://colab.research.google.com/notebooks/data_table.ipynb>data table notebook</a>'\n",
              "            + ' to learn more about interactive tables.';\n",
              "          element.innerHTML = '';\n",
              "          dataTable['output_type'] = 'display_data';\n",
              "          await google.colab.output.renderOutput(dataTable, element);\n",
              "          const docLink = document.createElement('div');\n",
              "          docLink.innerHTML = docLinkHtml;\n",
              "          element.appendChild(docLink);\n",
              "        }\n",
              "      </script>\n",
              "    </div>\n",
              "  </div>\n",
              "  "
            ],
            "text/plain": [
              "   Age  Sex  Chest pain type   BP  Cholesterol  FBS over 120  EKG results  \\\n",
              "0   70    1                4  130          322             0            2   \n",
              "1   67    0                3  115          564             0            2   \n",
              "2   57    1                2  124          261             0            0   \n",
              "3   64    1                4  128          263             0            0   \n",
              "4   74    0                2  120          269             0            2   \n",
              "\n",
              "   Max HR  Exercise angina  ST depression  Slope of ST  \\\n",
              "0     109                0            2.4            2   \n",
              "1     160                0            1.6            2   \n",
              "2     141                0            0.3            1   \n",
              "3     105                1            0.2            2   \n",
              "4     121                1            0.2            1   \n",
              "\n",
              "   Number of vessels fluro  Thallium Heart Disease  \n",
              "0                        3         3      Presence  \n",
              "1                        0         7       Absence  \n",
              "2                        0         7      Presence  \n",
              "3                        1         7       Absence  \n",
              "4                        1         3       Absence  "
            ]
          },
          "execution_count": 2,
          "metadata": {},
          "output_type": "execute_result"
        }
      ],
      "source": [
        "df = pd.read_csv('Heart_Disease_Prediction.csv')\n",
        "df.head()"
      ]
    },
    {
      "cell_type": "code",
      "execution_count": 3,
      "id": "d4a1e841",
      "metadata": {
        "colab": {
          "base_uri": "https://localhost:8080/",
          "height": 399
        },
        "execution": {
          "iopub.execute_input": "2022-09-16T11:22:53.841715Z",
          "iopub.status.busy": "2022-09-16T11:22:53.841267Z",
          "iopub.status.idle": "2022-09-16T11:22:53.899939Z",
          "shell.execute_reply": "2022-09-16T11:22:53.898579Z"
        },
        "id": "d4a1e841",
        "outputId": "701d66a5-dec0-4fb9-f838-6b95aaafb71f",
        "papermill": {
          "duration": 0.079636,
          "end_time": "2022-09-16T11:22:53.902296",
          "exception": false,
          "start_time": "2022-09-16T11:22:53.822660",
          "status": "completed"
        },
        "tags": []
      },
      "outputs": [
        {
          "data": {
            "text/html": [
              "\n",
              "  <div id=\"df-177faa75-a9f4-4149-bd0a-7b5b409d2097\">\n",
              "    <div class=\"colab-df-container\">\n",
              "      <div>\n",
              "<style scoped>\n",
              "    .dataframe tbody tr th:only-of-type {\n",
              "        vertical-align: middle;\n",
              "    }\n",
              "\n",
              "    .dataframe tbody tr th {\n",
              "        vertical-align: top;\n",
              "    }\n",
              "\n",
              "    .dataframe thead th {\n",
              "        text-align: right;\n",
              "    }\n",
              "</style>\n",
              "<table border=\"1\" class=\"dataframe\">\n",
              "  <thead>\n",
              "    <tr style=\"text-align: right;\">\n",
              "      <th></th>\n",
              "      <th>Age</th>\n",
              "      <th>Sex</th>\n",
              "      <th>Chest pain type</th>\n",
              "      <th>BP</th>\n",
              "      <th>Cholesterol</th>\n",
              "      <th>FBS over 120</th>\n",
              "      <th>EKG results</th>\n",
              "      <th>Max HR</th>\n",
              "      <th>Exercise angina</th>\n",
              "      <th>ST depression</th>\n",
              "      <th>Slope of ST</th>\n",
              "      <th>Number of vessels fluro</th>\n",
              "      <th>Thallium</th>\n",
              "    </tr>\n",
              "  </thead>\n",
              "  <tbody>\n",
              "    <tr>\n",
              "      <th>count</th>\n",
              "      <td>270.000000</td>\n",
              "      <td>270.000000</td>\n",
              "      <td>270.000000</td>\n",
              "      <td>270.000000</td>\n",
              "      <td>270.000000</td>\n",
              "      <td>270.000000</td>\n",
              "      <td>270.000000</td>\n",
              "      <td>270.000000</td>\n",
              "      <td>270.000000</td>\n",
              "      <td>270.00000</td>\n",
              "      <td>270.000000</td>\n",
              "      <td>270.000000</td>\n",
              "      <td>270.000000</td>\n",
              "    </tr>\n",
              "    <tr>\n",
              "      <th>mean</th>\n",
              "      <td>54.433333</td>\n",
              "      <td>0.677778</td>\n",
              "      <td>3.174074</td>\n",
              "      <td>131.344444</td>\n",
              "      <td>249.659259</td>\n",
              "      <td>0.148148</td>\n",
              "      <td>1.022222</td>\n",
              "      <td>149.677778</td>\n",
              "      <td>0.329630</td>\n",
              "      <td>1.05000</td>\n",
              "      <td>1.585185</td>\n",
              "      <td>0.670370</td>\n",
              "      <td>4.696296</td>\n",
              "    </tr>\n",
              "    <tr>\n",
              "      <th>std</th>\n",
              "      <td>9.109067</td>\n",
              "      <td>0.468195</td>\n",
              "      <td>0.950090</td>\n",
              "      <td>17.861608</td>\n",
              "      <td>51.686237</td>\n",
              "      <td>0.355906</td>\n",
              "      <td>0.997891</td>\n",
              "      <td>23.165717</td>\n",
              "      <td>0.470952</td>\n",
              "      <td>1.14521</td>\n",
              "      <td>0.614390</td>\n",
              "      <td>0.943896</td>\n",
              "      <td>1.940659</td>\n",
              "    </tr>\n",
              "    <tr>\n",
              "      <th>min</th>\n",
              "      <td>29.000000</td>\n",
              "      <td>0.000000</td>\n",
              "      <td>1.000000</td>\n",
              "      <td>94.000000</td>\n",
              "      <td>126.000000</td>\n",
              "      <td>0.000000</td>\n",
              "      <td>0.000000</td>\n",
              "      <td>71.000000</td>\n",
              "      <td>0.000000</td>\n",
              "      <td>0.00000</td>\n",
              "      <td>1.000000</td>\n",
              "      <td>0.000000</td>\n",
              "      <td>3.000000</td>\n",
              "    </tr>\n",
              "    <tr>\n",
              "      <th>25%</th>\n",
              "      <td>48.000000</td>\n",
              "      <td>0.000000</td>\n",
              "      <td>3.000000</td>\n",
              "      <td>120.000000</td>\n",
              "      <td>213.000000</td>\n",
              "      <td>0.000000</td>\n",
              "      <td>0.000000</td>\n",
              "      <td>133.000000</td>\n",
              "      <td>0.000000</td>\n",
              "      <td>0.00000</td>\n",
              "      <td>1.000000</td>\n",
              "      <td>0.000000</td>\n",
              "      <td>3.000000</td>\n",
              "    </tr>\n",
              "    <tr>\n",
              "      <th>50%</th>\n",
              "      <td>55.000000</td>\n",
              "      <td>1.000000</td>\n",
              "      <td>3.000000</td>\n",
              "      <td>130.000000</td>\n",
              "      <td>245.000000</td>\n",
              "      <td>0.000000</td>\n",
              "      <td>2.000000</td>\n",
              "      <td>153.500000</td>\n",
              "      <td>0.000000</td>\n",
              "      <td>0.80000</td>\n",
              "      <td>2.000000</td>\n",
              "      <td>0.000000</td>\n",
              "      <td>3.000000</td>\n",
              "    </tr>\n",
              "    <tr>\n",
              "      <th>75%</th>\n",
              "      <td>61.000000</td>\n",
              "      <td>1.000000</td>\n",
              "      <td>4.000000</td>\n",
              "      <td>140.000000</td>\n",
              "      <td>280.000000</td>\n",
              "      <td>0.000000</td>\n",
              "      <td>2.000000</td>\n",
              "      <td>166.000000</td>\n",
              "      <td>1.000000</td>\n",
              "      <td>1.60000</td>\n",
              "      <td>2.000000</td>\n",
              "      <td>1.000000</td>\n",
              "      <td>7.000000</td>\n",
              "    </tr>\n",
              "    <tr>\n",
              "      <th>max</th>\n",
              "      <td>77.000000</td>\n",
              "      <td>1.000000</td>\n",
              "      <td>4.000000</td>\n",
              "      <td>200.000000</td>\n",
              "      <td>564.000000</td>\n",
              "      <td>1.000000</td>\n",
              "      <td>2.000000</td>\n",
              "      <td>202.000000</td>\n",
              "      <td>1.000000</td>\n",
              "      <td>6.20000</td>\n",
              "      <td>3.000000</td>\n",
              "      <td>3.000000</td>\n",
              "      <td>7.000000</td>\n",
              "    </tr>\n",
              "  </tbody>\n",
              "</table>\n",
              "</div>\n",
              "      <button class=\"colab-df-convert\" onclick=\"convertToInteractive('df-177faa75-a9f4-4149-bd0a-7b5b409d2097')\"\n",
              "              title=\"Convert this dataframe to an interactive table.\"\n",
              "              style=\"display:none;\">\n",
              "        \n",
              "  <svg xmlns=\"http://www.w3.org/2000/svg\" height=\"24px\"viewBox=\"0 0 24 24\"\n",
              "       width=\"24px\">\n",
              "    <path d=\"M0 0h24v24H0V0z\" fill=\"none\"/>\n",
              "    <path d=\"M18.56 5.44l.94 2.06.94-2.06 2.06-.94-2.06-.94-.94-2.06-.94 2.06-2.06.94zm-11 1L8.5 8.5l.94-2.06 2.06-.94-2.06-.94L8.5 2.5l-.94 2.06-2.06.94zm10 10l.94 2.06.94-2.06 2.06-.94-2.06-.94-.94-2.06-.94 2.06-2.06.94z\"/><path d=\"M17.41 7.96l-1.37-1.37c-.4-.4-.92-.59-1.43-.59-.52 0-1.04.2-1.43.59L10.3 9.45l-7.72 7.72c-.78.78-.78 2.05 0 2.83L4 21.41c.39.39.9.59 1.41.59.51 0 1.02-.2 1.41-.59l7.78-7.78 2.81-2.81c.8-.78.8-2.07 0-2.86zM5.41 20L4 18.59l7.72-7.72 1.47 1.35L5.41 20z\"/>\n",
              "  </svg>\n",
              "      </button>\n",
              "      \n",
              "  <style>\n",
              "    .colab-df-container {\n",
              "      display:flex;\n",
              "      flex-wrap:wrap;\n",
              "      gap: 12px;\n",
              "    }\n",
              "\n",
              "    .colab-df-convert {\n",
              "      background-color: #E8F0FE;\n",
              "      border: none;\n",
              "      border-radius: 50%;\n",
              "      cursor: pointer;\n",
              "      display: none;\n",
              "      fill: #1967D2;\n",
              "      height: 32px;\n",
              "      padding: 0 0 0 0;\n",
              "      width: 32px;\n",
              "    }\n",
              "\n",
              "    .colab-df-convert:hover {\n",
              "      background-color: #E2EBFA;\n",
              "      box-shadow: 0px 1px 2px rgba(60, 64, 67, 0.3), 0px 1px 3px 1px rgba(60, 64, 67, 0.15);\n",
              "      fill: #174EA6;\n",
              "    }\n",
              "\n",
              "    [theme=dark] .colab-df-convert {\n",
              "      background-color: #3B4455;\n",
              "      fill: #D2E3FC;\n",
              "    }\n",
              "\n",
              "    [theme=dark] .colab-df-convert:hover {\n",
              "      background-color: #434B5C;\n",
              "      box-shadow: 0px 1px 3px 1px rgba(0, 0, 0, 0.15);\n",
              "      filter: drop-shadow(0px 1px 2px rgba(0, 0, 0, 0.3));\n",
              "      fill: #FFFFFF;\n",
              "    }\n",
              "  </style>\n",
              "\n",
              "      <script>\n",
              "        const buttonEl =\n",
              "          document.querySelector('#df-177faa75-a9f4-4149-bd0a-7b5b409d2097 button.colab-df-convert');\n",
              "        buttonEl.style.display =\n",
              "          google.colab.kernel.accessAllowed ? 'block' : 'none';\n",
              "\n",
              "        async function convertToInteractive(key) {\n",
              "          const element = document.querySelector('#df-177faa75-a9f4-4149-bd0a-7b5b409d2097');\n",
              "          const dataTable =\n",
              "            await google.colab.kernel.invokeFunction('convertToInteractive',\n",
              "                                                     [key], {});\n",
              "          if (!dataTable) return;\n",
              "\n",
              "          const docLinkHtml = 'Like what you see? Visit the ' +\n",
              "            '<a target=\"_blank\" href=https://colab.research.google.com/notebooks/data_table.ipynb>data table notebook</a>'\n",
              "            + ' to learn more about interactive tables.';\n",
              "          element.innerHTML = '';\n",
              "          dataTable['output_type'] = 'display_data';\n",
              "          await google.colab.output.renderOutput(dataTable, element);\n",
              "          const docLink = document.createElement('div');\n",
              "          docLink.innerHTML = docLinkHtml;\n",
              "          element.appendChild(docLink);\n",
              "        }\n",
              "      </script>\n",
              "    </div>\n",
              "  </div>\n",
              "  "
            ],
            "text/plain": [
              "              Age         Sex  Chest pain type          BP  Cholesterol  \\\n",
              "count  270.000000  270.000000       270.000000  270.000000   270.000000   \n",
              "mean    54.433333    0.677778         3.174074  131.344444   249.659259   \n",
              "std      9.109067    0.468195         0.950090   17.861608    51.686237   \n",
              "min     29.000000    0.000000         1.000000   94.000000   126.000000   \n",
              "25%     48.000000    0.000000         3.000000  120.000000   213.000000   \n",
              "50%     55.000000    1.000000         3.000000  130.000000   245.000000   \n",
              "75%     61.000000    1.000000         4.000000  140.000000   280.000000   \n",
              "max     77.000000    1.000000         4.000000  200.000000   564.000000   \n",
              "\n",
              "       FBS over 120  EKG results      Max HR  Exercise angina  ST depression  \\\n",
              "count    270.000000   270.000000  270.000000       270.000000      270.00000   \n",
              "mean       0.148148     1.022222  149.677778         0.329630        1.05000   \n",
              "std        0.355906     0.997891   23.165717         0.470952        1.14521   \n",
              "min        0.000000     0.000000   71.000000         0.000000        0.00000   \n",
              "25%        0.000000     0.000000  133.000000         0.000000        0.00000   \n",
              "50%        0.000000     2.000000  153.500000         0.000000        0.80000   \n",
              "75%        0.000000     2.000000  166.000000         1.000000        1.60000   \n",
              "max        1.000000     2.000000  202.000000         1.000000        6.20000   \n",
              "\n",
              "       Slope of ST  Number of vessels fluro    Thallium  \n",
              "count   270.000000               270.000000  270.000000  \n",
              "mean      1.585185                 0.670370    4.696296  \n",
              "std       0.614390                 0.943896    1.940659  \n",
              "min       1.000000                 0.000000    3.000000  \n",
              "25%       1.000000                 0.000000    3.000000  \n",
              "50%       2.000000                 0.000000    3.000000  \n",
              "75%       2.000000                 1.000000    7.000000  \n",
              "max       3.000000                 3.000000    7.000000  "
            ]
          },
          "execution_count": 3,
          "metadata": {},
          "output_type": "execute_result"
        }
      ],
      "source": [
        "df.describe()"
      ]
    },
    {
      "cell_type": "code",
      "execution_count": 4,
      "id": "0b693372",
      "metadata": {
        "colab": {
          "base_uri": "https://localhost:8080/"
        },
        "execution": {
          "iopub.execute_input": "2022-09-16T11:22:53.938382Z",
          "iopub.status.busy": "2022-09-16T11:22:53.937956Z",
          "iopub.status.idle": "2022-09-16T11:22:53.955573Z",
          "shell.execute_reply": "2022-09-16T11:22:53.954527Z"
        },
        "id": "0b693372",
        "outputId": "23fc0210-e468-4fb8-bd73-2058404ff0e1",
        "papermill": {
          "duration": 0.038568,
          "end_time": "2022-09-16T11:22:53.958021",
          "exception": false,
          "start_time": "2022-09-16T11:22:53.919453",
          "status": "completed"
        },
        "tags": []
      },
      "outputs": [
        {
          "name": "stdout",
          "output_type": "stream",
          "text": [
            "<class 'pandas.core.frame.DataFrame'>\n",
            "RangeIndex: 270 entries, 0 to 269\n",
            "Data columns (total 14 columns):\n",
            " #   Column                   Non-Null Count  Dtype  \n",
            "---  ------                   --------------  -----  \n",
            " 0   Age                      270 non-null    int64  \n",
            " 1   Sex                      270 non-null    int64  \n",
            " 2   Chest pain type          270 non-null    int64  \n",
            " 3   BP                       270 non-null    int64  \n",
            " 4   Cholesterol              270 non-null    int64  \n",
            " 5   FBS over 120             270 non-null    int64  \n",
            " 6   EKG results              270 non-null    int64  \n",
            " 7   Max HR                   270 non-null    int64  \n",
            " 8   Exercise angina          270 non-null    int64  \n",
            " 9   ST depression            270 non-null    float64\n",
            " 10  Slope of ST              270 non-null    int64  \n",
            " 11  Number of vessels fluro  270 non-null    int64  \n",
            " 12  Thallium                 270 non-null    int64  \n",
            " 13  Heart Disease            270 non-null    object \n",
            "dtypes: float64(1), int64(12), object(1)\n",
            "memory usage: 29.7+ KB\n"
          ]
        }
      ],
      "source": [
        "df.info()"
      ]
    },
    {
      "cell_type": "code",
      "execution_count": 5,
      "id": "6ead36ff",
      "metadata": {
        "colab": {
          "base_uri": "https://localhost:8080/"
        },
        "execution": {
          "iopub.execute_input": "2022-09-16T11:22:53.994204Z",
          "iopub.status.busy": "2022-09-16T11:22:53.993777Z",
          "iopub.status.idle": "2022-09-16T11:22:54.001786Z",
          "shell.execute_reply": "2022-09-16T11:22:54.000489Z"
        },
        "id": "6ead36ff",
        "outputId": "75b6e4a2-b160-4876-fd3f-0344f9ec3f03",
        "papermill": {
          "duration": 0.028893,
          "end_time": "2022-09-16T11:22:54.004304",
          "exception": false,
          "start_time": "2022-09-16T11:22:53.975411",
          "status": "completed"
        },
        "tags": []
      },
      "outputs": [
        {
          "data": {
            "text/plain": [
              "array(['Age', 'Sex', 'Chest pain type', 'BP', 'Cholesterol',\n",
              "       'FBS over 120', 'EKG results', 'Max HR', 'Exercise angina',\n",
              "       'ST depression', 'Slope of ST', 'Number of vessels fluro',\n",
              "       'Thallium', 'Heart Disease'], dtype=object)"
            ]
          },
          "execution_count": 5,
          "metadata": {},
          "output_type": "execute_result"
        }
      ],
      "source": [
        "df.columns.values"
      ]
    },
    {
      "cell_type": "code",
      "execution_count": 6,
      "id": "fbdf8811",
      "metadata": {
        "colab": {
          "base_uri": "https://localhost:8080/"
        },
        "execution": {
          "iopub.execute_input": "2022-09-16T11:22:54.040878Z",
          "iopub.status.busy": "2022-09-16T11:22:54.040415Z",
          "iopub.status.idle": "2022-09-16T11:22:54.053949Z",
          "shell.execute_reply": "2022-09-16T11:22:54.052778Z"
        },
        "id": "fbdf8811",
        "outputId": "0368dfd9-2eb5-4cc4-c943-8c5554bd6256",
        "papermill": {
          "duration": 0.034918,
          "end_time": "2022-09-16T11:22:54.056659",
          "exception": false,
          "start_time": "2022-09-16T11:22:54.021741",
          "status": "completed"
        },
        "tags": []
      },
      "outputs": [
        {
          "data": {
            "text/plain": [
              "Age                         41\n",
              "Sex                          2\n",
              "Chest pain type              4\n",
              "BP                          47\n",
              "Cholesterol                144\n",
              "FBS over 120                 2\n",
              "EKG results                  3\n",
              "Max HR                      90\n",
              "Exercise angina              2\n",
              "ST depression               39\n",
              "Slope of ST                  3\n",
              "Number of vessels fluro      4\n",
              "Thallium                     3\n",
              "Heart Disease                2\n",
              "dtype: int64"
            ]
          },
          "execution_count": 6,
          "metadata": {},
          "output_type": "execute_result"
        }
      ],
      "source": [
        "df.nunique()"
      ]
    },
    {
      "cell_type": "markdown",
      "id": "a8606d69",
      "metadata": {
        "id": "a8606d69",
        "papermill": {
          "duration": 0.023225,
          "end_time": "2022-09-16T11:22:59.201667",
          "exception": false,
          "start_time": "2022-09-16T11:22:59.178442",
          "status": "completed"
        },
        "tags": []
      },
      "source": [
        "> # EDA - Exploratory Data Analysis"
      ]
    },
    {
      "cell_type": "markdown",
      "id": "51d60776",
      "metadata": {
        "id": "51d60776",
        "papermill": {
          "duration": 0.023378,
          "end_time": "2022-09-16T11:22:59.248600",
          "exception": false,
          "start_time": "2022-09-16T11:22:59.225222",
          "status": "completed"
        },
        "tags": []
      },
      "source": [
        "Converting object targets to boolean"
      ]
    },
    {
      "cell_type": "code",
      "execution_count": 21,
      "id": "6fb4c903",
      "metadata": {
        "execution": {
          "iopub.execute_input": "2022-09-16T11:22:59.298262Z",
          "iopub.status.busy": "2022-09-16T11:22:59.297213Z",
          "iopub.status.idle": "2022-09-16T11:22:59.304120Z",
          "shell.execute_reply": "2022-09-16T11:22:59.303205Z"
        },
        "id": "6fb4c903",
        "papermill": {
          "duration": 0.034088,
          "end_time": "2022-09-16T11:22:59.306283",
          "exception": false,
          "start_time": "2022-09-16T11:22:59.272195",
          "status": "completed"
        },
        "tags": []
      },
      "outputs": [],
      "source": [
        "target = df['Heart Disease'].map({'Presence':1, 'Absence':0})\n",
        "inputs = df.drop(['Heart Disease'], axis=1)"
      ]
    },
    {
      "cell_type": "markdown",
      "id": "7dfcf2ac",
      "metadata": {
        "id": "7dfcf2ac",
        "papermill": {
          "duration": 0.023901,
          "end_time": "2022-09-16T11:22:59.353919",
          "exception": false,
          "start_time": "2022-09-16T11:22:59.330018",
          "status": "completed"
        },
        "tags": []
      },
      "source": [
        "Correlation matrix - The 'Slope of ST' is highly linearly correlated with 'ST depression'"
      ]
    },
    {
      "cell_type": "code",
      "execution_count": 22,
      "id": "92762525",
      "metadata": {
        "colab": {
          "base_uri": "https://localhost:8080/",
          "height": 403
        },
        "execution": {
          "iopub.execute_input": "2022-09-16T11:22:59.403439Z",
          "iopub.status.busy": "2022-09-16T11:22:59.402662Z",
          "iopub.status.idle": "2022-09-16T11:22:59.767092Z",
          "shell.execute_reply": "2022-09-16T11:22:59.765574Z"
        },
        "id": "92762525",
        "outputId": "467886d5-3b58-4ebf-94fa-a34ad9dbe1de",
        "papermill": {
          "duration": 0.391933,
          "end_time": "2022-09-16T11:22:59.769663",
          "exception": false,
          "start_time": "2022-09-16T11:22:59.377730",
          "status": "completed"
        },
        "tags": []
      },
      "outputs": [
        {
          "data": {
            "image/png": "[encoded data removed]",
            "text/plain": [
              "<Figure size 432x288 with 2 Axes>"
            ]
          },
          "metadata": {
            "needs_background": "light"
          },
          "output_type": "display_data"
        }
      ],
      "source": [
        "plt.suptitle(\"Correlation Map/Pearson correlation coefficient\")\n",
        "sns.heatmap(df.iloc[:,1:-1].corr())\n",
        "\n",
        "plt.show()"
      ]
    },
    {
      "cell_type": "markdown",
      "id": "85JdB7Vsy_Gl",
      "metadata": {
        "id": "85JdB7Vsy_Gl"
      },
      "source": [
        "***Age Analysis***"
      ]
    },
    {
      "cell_type": "code",
      "execution_count": 23,
      "id": "14eeefba",
      "metadata": {
        "colab": {
          "base_uri": "https://localhost:8080/",
          "height": 308
        },
        "execution": {
          "iopub.execute_input": "2022-09-16T11:22:59.870867Z",
          "iopub.status.busy": "2022-09-16T11:22:59.870404Z",
          "iopub.status.idle": "2022-09-16T11:23:00.114699Z",
          "shell.execute_reply": "2022-09-16T11:23:00.113476Z"
        },
        "id": "14eeefba",
        "outputId": "c6a2191c-1927-4f52-df41-18b90961c61a",
        "papermill": {
          "duration": 0.272745,
          "end_time": "2022-09-16T11:23:00.117180",
          "exception": false,
          "start_time": "2022-09-16T11:22:59.844435",
          "status": "completed"
        },
        "tags": []
      },
      "outputs": [
        {
          "data": {
            "image/png": "[encoded data removed]",
            "text/plain": [
              "<Figure size 432x288 with 1 Axes>"
            ]
          },
          "metadata": {
            "needs_background": "light"
          },
          "output_type": "display_data"
        }
      ],
      "source": [
        "plt.suptitle(\"Age\")\n",
        "sns.scatterplot(data=df, x='Age', y=np.zeros(len(df['Age'])), hue=target)\n",
        "plt.show()"
      ]
    },
    {
      "cell_type": "code",
      "execution_count": 29,
      "id": "UW9dBVspzFJI",
      "metadata": {
        "colab": {
          "base_uri": "https://localhost:8080/",
          "height": 268
        },
        "id": "UW9dBVspzFJI",
        "outputId": "e7e69def-a2de-44f4-92d6-3309ded6e1a8"
      },
      "outputs": [
        {
          "data": {
            "image/png": "[encoded data removed]",
            "text/plain": [
              "<Figure size 432x288 with 1 Axes>"
            ]
          },
          "metadata": {
            "needs_background": "light"
          },
          "output_type": "display_data"
        }
      ],
      "source": [
        "data=df\n",
        "sns.barplot(x=data.Age.value_counts()[:10].index,y=data.Age.value_counts()[:10].values)\n",
        "plt.show()"
      ]
    },
    {
      "cell_type": "code",
      "execution_count": 30,
      "id": "mihiNnLmzHgW",
      "metadata": {
        "colab": {
          "base_uri": "https://localhost:8080/"
        },
        "id": "mihiNnLmzHgW",
        "outputId": "c8e37c8d-5894-4935-beec-ba380c08620b"
      },
      "outputs": [
        {
          "name": "stdout",
          "output_type": "stream",
          "text": [
            "Min Age : 29\n",
            "Max Age : 77\n",
            "Mean Age : 54.43333333333333\n"
          ]
        }
      ],
      "source": [
        "minAge=min(data.Age)\n",
        "maxAge=max(data.Age)\n",
        "meanAge=data.Age.mean()\n",
        "print('Min Age :',minAge)\n",
        "print('Max Age :',maxAge)\n",
        "print('Mean Age :',meanAge)"
      ]
    },
    {
      "cell_type": "markdown",
      "id": "HYbClqk-zMnG",
      "metadata": {
        "id": "HYbClqk-zMnG"
      },
      "source": [
        "Dividing the Age feature into three parts - \"Young\", \"Middle\" and \"Elder\""
      ]
    },
    {
      "cell_type": "code",
      "execution_count": 36,
      "id": "aSsepBbwzJq1",
      "metadata": {
        "colab": {
          "base_uri": "https://localhost:8080/",
          "height": 268
        },
        "id": "aSsepBbwzJq1",
        "outputId": "63b8f317-2e48-43d3-b5f4-71d753df88cb"
      },
      "outputs": [
        {
          "data": {
            "image/png": "[encoded data removed]",
            "text/plain": [
              "<Figure size 432x288 with 1 Axes>"
            ]
          },
          "metadata": {
            "needs_background": "light"
          },
          "output_type": "display_data"
        }
      ],
      "source": [
        "Young = data[(data.Age>=29)&(data.Age<40)]\n",
        "Middle = data[(data.Age>=40)&(data.Age<55)]\n",
        "Elder = data[(data.Age>55)]\n",
        "\n",
        "\n",
        "sns.set_context(font_scale = 1)\n",
        "sns.barplot(x=['young ages','middle ages','elderly ages'],y=[len(Young),len(Middle),len(Elder)])\n",
        "plt.show()"
      ]
    },
    {
      "cell_type": "markdown",
      "id": "rF5Xx23CzTvs",
      "metadata": {
        "id": "rF5Xx23CzTvs"
      },
      "source": [
        "A large proportion of dataset contains Elder people.\n",
        "\n",
        "Elderly people are more likely to suffer from heart disease."
      ]
    },
    {
      "cell_type": "code",
      "execution_count": 42,
      "id": "XerlEMYZzc8R",
      "metadata": {
        "colab": {
          "base_uri": "https://localhost:8080/",
          "height": 287
        },
        "id": "XerlEMYZzc8R",
        "outputId": "e9e9c9f4-3593-475d-dd30-dbbf178580bb"
      },
      "outputs": [
        {
          "data": {
            "image/png": "[encoded data removed]",
            "text/plain": [
              "<Figure size 432x288 with 1 Axes>"
            ]
          },
          "metadata": {},
          "output_type": "display_data"
        }
      ],
      "source": [
        "colors = ['blue','green','yellow']\n",
        "explode = [0,0,0.1]\n",
        "\n",
        "sns.set_context('notebook',font_scale = 1.2)\n",
        "plt.pie([len(Young),len(Middle),len(Elder)],labels=['young ages','middle ages','elderly ages'],explode=explode,colors=colors, autopct='%1.1f%%')\n",
        "plt.tight_layout()"
      ]
    },
    {
      "cell_type": "code",
      "execution_count": 97,
      "id": "Mgta1vtpLVfu",
      "metadata": {
        "colab": {
          "base_uri": "https://localhost:8080/",
          "height": 390
        },
        "id": "Mgta1vtpLVfu",
        "outputId": "2f4b486d-1bfc-47f4-9b29-988df281bbe5"
      },
      "outputs": [
        {
          "name": "stderr",
          "output_type": "stream",
          "text": [
            "/usr/local/lib/python3.7/dist-packages/seaborn/distributions.py:2619: FutureWarning: `distplot` is a deprecated function and will be removed in a future version. Please adapt your code to use either `displot` (a figure-level function with similar flexibility) or `histplot` (an axes-level function for histograms).\n",
            "  warnings.warn(msg, FutureWarning)\n",
            "/usr/local/lib/python3.7/dist-packages/seaborn/distributions.py:2619: FutureWarning: `distplot` is a deprecated function and will be removed in a future version. Please adapt your code to use either `displot` (a figure-level function with similar flexibility) or `histplot` (an axes-level function for histograms).\n",
            "  warnings.warn(msg, FutureWarning)\n"
          ]
        },
        {
          "data": {
            "image/png": "[encoded data removed]",
            "text/plain": [
              "<Figure size 432x288 with 1 Axes>"
            ]
          },
          "metadata": {
            "needs_background": "light"
          },
          "output_type": "display_data"
        }
      ],
      "source": [
        "# Display age distribution based on heart disease\n",
        "sns.distplot(data[data['Heart Disease'] == 'Absence']['Age'], label='Do not have heart disease')\n",
        "sns.distplot(data[data['Heart Disease'] == 'Presence']['Age'], label = 'Have heart disease')\n",
        "plt.xlabel('Frequency')\n",
        "plt.ylabel('Age')\n",
        "plt.title('Age Distribution based on Heart Disease')\n",
        "plt.legend()\n",
        "plt.show()"
      ]
    },
    {
      "cell_type": "markdown",
      "id": "d0a21518",
      "metadata": {
        "id": "d0a21518",
        "papermill": {
          "duration": 0.023659,
          "end_time": "2022-09-16T11:23:00.165119",
          "exception": false,
          "start_time": "2022-09-16T11:23:00.141460",
          "status": "completed"
        },
        "tags": []
      },
      "source": [
        "***Sex Feature Analysis***"
      ]
    },
    {
      "cell_type": "code",
      "execution_count": 43,
      "id": "SZEyhy5yyxjw",
      "metadata": {
        "colab": {
          "base_uri": "https://localhost:8080/",
          "height": 353
        },
        "id": "SZEyhy5yyxjw",
        "outputId": "482ebfeb-b09e-4729-82c9-b4c0da1d7485"
      },
      "outputs": [
        {
          "name": "stderr",
          "output_type": "stream",
          "text": [
            "/usr/local/lib/python3.7/dist-packages/seaborn/_decorators.py:43: FutureWarning: Pass the following variable as a keyword arg: x. From version 0.12, the only valid positional argument will be `data`, and passing other arguments without an explicit keyword will result in an error or misinterpretation.\n",
            "  FutureWarning\n"
          ]
        },
        {
          "data": {
            "image/png": "[encoded data removed]",
            "text/plain": [
              "<Figure size 432x288 with 1 Axes>"
            ]
          },
          "metadata": {
            "needs_background": "light"
          },
          "output_type": "display_data"
        }
      ],
      "source": [
        "sns.set_context('notebook',font_scale=1.5)\n",
        "sns.countplot(data['Sex'])\n",
        "plt.show()"
      ]
    },
    {
      "cell_type": "markdown",
      "id": "Mv9Cvib4zig9",
      "metadata": {
        "id": "Mv9Cvib4zig9"
      },
      "source": [
        "Ratio of Male to Female is approx 2:1"
      ]
    },
    {
      "cell_type": "code",
      "execution_count": 44,
      "id": "1f88e5be",
      "metadata": {
        "colab": {
          "base_uri": "https://localhost:8080/",
          "height": 298
        },
        "execution": {
          "iopub.execute_input": "2022-09-16T11:23:00.217440Z",
          "iopub.status.busy": "2022-09-16T11:23:00.216740Z",
          "iopub.status.idle": "2022-09-16T11:23:00.388921Z",
          "shell.execute_reply": "2022-09-16T11:23:00.387625Z"
        },
        "id": "1f88e5be",
        "outputId": "6c779bb7-ad41-4026-b0cb-e3bdba51b891",
        "papermill": {
          "duration": 0.201805,
          "end_time": "2022-09-16T11:23:00.391296",
          "exception": false,
          "start_time": "2022-09-16T11:23:00.189491",
          "status": "completed"
        },
        "tags": []
      },
      "outputs": [
        {
          "data": {
            "image/png": "[encoded data removed]",
            "text/plain": [
              "<Figure size 432x288 with 1 Axes>"
            ]
          },
          "metadata": {
            "needs_background": "light"
          },
          "output_type": "display_data"
        }
      ],
      "source": [
        "ax = sns.countplot(x='Heart Disease', hue='Sex', data=df)\n",
        "legend_labels, _= ax.get_legend_handles_labels()\n",
        "ax.legend(legend_labels, ['Female','Male'], bbox_to_anchor=(1,1))\n",
        "plt.show()"
      ]
    },
    {
      "cell_type": "code",
      "execution_count": 49,
      "id": "N7Fs_W_TzoJ4",
      "metadata": {
        "colab": {
          "base_uri": "https://localhost:8080/",
          "height": 340
        },
        "id": "N7Fs_W_TzoJ4",
        "outputId": "d43a52e3-1453-436f-fc7f-1693a9eb99ee"
      },
      "outputs": [
        {
          "name": "stderr",
          "output_type": "stream",
          "text": [
            "/usr/local/lib/python3.7/dist-packages/seaborn/_decorators.py:43: FutureWarning: Pass the following variable as a keyword arg: x. From version 0.12, the only valid positional argument will be `data`, and passing other arguments without an explicit keyword will result in an error or misinterpretation.\n",
            "  FutureWarning\n"
          ]
        },
        {
          "data": {
            "image/png": "[encoded data removed]",
            "text/plain": [
              "<Figure size 432x288 with 1 Axes>"
            ]
          },
          "metadata": {
            "needs_background": "light"
          },
          "output_type": "display_data"
        }
      ],
      "source": [
        "sns.countplot(data['Sex'],hue=data[\"Slope of ST\"])\n",
        "plt.show()"
      ]
    },
    {
      "cell_type": "markdown",
      "id": "pCPPbXz_zrIf",
      "metadata": {
        "id": "pCPPbXz_zrIf"
      },
      "source": [
        "***Chest Pain Type Analysis***"
      ]
    },
    {
      "cell_type": "code",
      "execution_count": 51,
      "id": "YU_mKbUzz4D5",
      "metadata": {
        "colab": {
          "base_uri": "https://localhost:8080/",
          "height": 340
        },
        "id": "YU_mKbUzz4D5",
        "outputId": "afbda8d0-e241-4cbf-f88e-233dfafc34d7"
      },
      "outputs": [
        {
          "name": "stderr",
          "output_type": "stream",
          "text": [
            "/usr/local/lib/python3.7/dist-packages/seaborn/_decorators.py:43: FutureWarning: Pass the following variable as a keyword arg: x. From version 0.12, the only valid positional argument will be `data`, and passing other arguments without an explicit keyword will result in an error or misinterpretation.\n",
            "  FutureWarning\n"
          ]
        },
        {
          "data": {
            "image/png": "[encoded data removed]",
            "text/plain": [
              "<Figure size 432x288 with 1 Axes>"
            ]
          },
          "metadata": {
            "needs_background": "light"
          },
          "output_type": "display_data"
        }
      ],
      "source": [
        "sns.countplot(data['Chest pain type'])\n",
        "plt.show()"
      ]
    },
    {
      "cell_type": "markdown",
      "id": "f44c7aa9",
      "metadata": {
        "id": "f44c7aa9",
        "papermill": {
          "duration": 0.024131,
          "end_time": "2022-09-16T11:23:00.440177",
          "exception": false,
          "start_time": "2022-09-16T11:23:00.416046",
          "status": "completed"
        },
        "tags": []
      },
      "source": [
        "Heart disease based on Chest pain type - 4th type of chest pain dominate in heart disease"
      ]
    },
    {
      "cell_type": "code",
      "execution_count": 53,
      "id": "b8bcd789",
      "metadata": {
        "colab": {
          "base_uri": "https://localhost:8080/",
          "height": 314
        },
        "execution": {
          "iopub.execute_input": "2022-09-16T11:23:00.491050Z",
          "iopub.status.busy": "2022-09-16T11:23:00.490329Z",
          "iopub.status.idle": "2022-09-16T11:23:00.685034Z",
          "shell.execute_reply": "2022-09-16T11:23:00.683793Z"
        },
        "id": "b8bcd789",
        "outputId": "a520f472-f814-43ab-a839-e2ee69de07d2",
        "papermill": {
          "duration": 0.222858,
          "end_time": "2022-09-16T11:23:00.687385",
          "exception": false,
          "start_time": "2022-09-16T11:23:00.464527",
          "status": "completed"
        },
        "tags": []
      },
      "outputs": [
        {
          "data": {
            "image/png": "[encoded data removed]",
            "text/plain": [
              "<Figure size 432x288 with 1 Axes>"
            ]
          },
          "metadata": {
            "needs_background": "light"
          },
          "output_type": "display_data"
        }
      ],
      "source": [
        "plt.suptitle('Chest pain type vs Heart Disease')\n",
        "sns.countplot(data=df, x='Heart Disease', hue='Chest pain type')\n",
        "plt.show()"
      ]
    },
    {
      "cell_type": "code",
      "execution_count": 56,
      "id": "DvcFDrSgz81p",
      "metadata": {
        "colab": {
          "base_uri": "https://localhost:8080/",
          "height": 353
        },
        "id": "DvcFDrSgz81p",
        "outputId": "bfaf743c-9cfa-40dd-c354-d3d424448903"
      },
      "outputs": [
        {
          "name": "stderr",
          "output_type": "stream",
          "text": [
            "/usr/local/lib/python3.7/dist-packages/seaborn/_decorators.py:43: FutureWarning: Pass the following variable as a keyword arg: x. From version 0.12, the only valid positional argument will be `data`, and passing other arguments without an explicit keyword will result in an error or misinterpretation.\n",
            "  FutureWarning\n"
          ]
        },
        {
          "data": {
            "image/png": "[encoded data removed]",
            "text/plain": [
              "<Figure size 432x288 with 1 Axes>"
            ]
          },
          "metadata": {
            "needs_background": "light"
          },
          "output_type": "display_data"
        }
      ],
      "source": [
        "sns.countplot(data['Chest pain type'],hue=data[\"Sex\"])\n",
        "plt.show()"
      ]
    },
    {
      "cell_type": "markdown",
      "id": "frql6wUS0YPe",
      "metadata": {
        "id": "frql6wUS0YPe"
      },
      "source": [
        "\n",
        "\n",
        "*   People having least chest pain are not likely to heart disease.\n",
        "*   People having severe chest pain are likely to heart disease\n",
        "\n"
      ]
    },
    {
      "cell_type": "markdown",
      "id": "3b24badb",
      "metadata": {
        "id": "3b24badb",
        "papermill": {
          "duration": 0.024272,
          "end_time": "2022-09-16T11:23:00.736383",
          "exception": false,
          "start_time": "2022-09-16T11:23:00.712111",
          "status": "completed"
        },
        "tags": []
      },
      "source": [
        "***Heart Disease based on BP*** - Persons with high BP have more chance to get heart disease"
      ]
    },
    {
      "cell_type": "code",
      "execution_count": 57,
      "id": "9beda075",
      "metadata": {
        "colab": {
          "base_uri": "https://localhost:8080/",
          "height": 388
        },
        "execution": {
          "iopub.execute_input": "2022-09-16T11:23:00.787896Z",
          "iopub.status.busy": "2022-09-16T11:23:00.787444Z",
          "iopub.status.idle": "2022-09-16T11:23:01.203803Z",
          "shell.execute_reply": "2022-09-16T11:23:01.202595Z"
        },
        "id": "9beda075",
        "outputId": "64e787b8-0464-4850-d22b-639f9ae67f16",
        "papermill": {
          "duration": 0.445657,
          "end_time": "2022-09-16T11:23:01.206723",
          "exception": false,
          "start_time": "2022-09-16T11:23:00.761066",
          "status": "completed"
        },
        "tags": []
      },
      "outputs": [
        {
          "data": {
            "image/png": "[encoded data removed]",
            "text/plain": [
              "<Figure size 720x360 with 2 Axes>"
            ]
          },
          "metadata": {
            "needs_background": "light"
          },
          "output_type": "display_data"
        }
      ],
      "source": [
        "plt.figure(figsize=(10,5))\n",
        "\n",
        "plt.subplot(1,2,1)\n",
        "plt.suptitle(\"BP\")\n",
        "sns.scatterplot(data=df, x='BP', y=np.zeros(len(df['BP'])), hue=target)\n",
        "\n",
        "plt.subplot(1,2,2)\n",
        "sns.scatterplot(data=df, x='BP', y='Age', hue=target)\n",
        "\n",
        "\n",
        "plt.show()"
      ]
    },
    {
      "cell_type": "markdown",
      "id": "e1f210a2",
      "metadata": {
        "id": "e1f210a2",
        "papermill": {
          "duration": 0.036926,
          "end_time": "2022-09-16T11:23:01.281933",
          "exception": false,
          "start_time": "2022-09-16T11:23:01.245007",
          "status": "completed"
        },
        "tags": []
      },
      "source": [
        "***Cholesterol*** - Higer Cholesterol does not influence on heart disease"
      ]
    },
    {
      "cell_type": "code",
      "execution_count": 58,
      "id": "2d402dd7",
      "metadata": {
        "colab": {
          "base_uri": "https://localhost:8080/",
          "height": 327
        },
        "execution": {
          "iopub.execute_input": "2022-09-16T11:23:01.358310Z",
          "iopub.status.busy": "2022-09-16T11:23:01.357480Z",
          "iopub.status.idle": "2022-09-16T11:23:01.597058Z",
          "shell.execute_reply": "2022-09-16T11:23:01.595840Z"
        },
        "id": "2d402dd7",
        "outputId": "8fe6c9e3-373d-451c-c4d8-1934a59bf227",
        "papermill": {
          "duration": 0.280655,
          "end_time": "2022-09-16T11:23:01.599665",
          "exception": false,
          "start_time": "2022-09-16T11:23:01.319010",
          "status": "completed"
        },
        "tags": []
      },
      "outputs": [
        {
          "data": {
            "image/png": "[encoded data removed]",
            "text/plain": [
              "<Figure size 432x288 with 1 Axes>"
            ]
          },
          "metadata": {
            "needs_background": "light"
          },
          "output_type": "display_data"
        }
      ],
      "source": [
        "plt.suptitle(\"Cholesterol\")\n",
        "sns.scatterplot(data=df, x='Cholesterol', y=np.zeros(len(df['Cholesterol'])), hue=target)\n",
        "plt.show()"
      ]
    },
    {
      "cell_type": "markdown",
      "id": "a27df3c0",
      "metadata": {
        "id": "a27df3c0",
        "papermill": {
          "duration": 0.028881,
          "end_time": "2022-09-16T11:23:01.657654",
          "exception": false,
          "start_time": "2022-09-16T11:23:01.628773",
          "status": "completed"
        },
        "tags": []
      },
      "source": [
        "***FBS over 120*** - Also increased FBS over 120 does not imply on heart disease prediction"
      ]
    },
    {
      "cell_type": "code",
      "execution_count": 70,
      "id": "1625c1c4",
      "metadata": {
        "colab": {
          "base_uri": "https://localhost:8080/",
          "height": 285
        },
        "execution": {
          "iopub.execute_input": "2022-09-16T11:23:01.712342Z",
          "iopub.status.busy": "2022-09-16T11:23:01.711560Z",
          "iopub.status.idle": "2022-09-16T11:23:01.892221Z",
          "shell.execute_reply": "2022-09-16T11:23:01.891036Z"
        },
        "id": "1625c1c4",
        "outputId": "62e1d47f-6f09-4303-f717-cf91626abace",
        "papermill": {
          "duration": 0.211335,
          "end_time": "2022-09-16T11:23:01.895269",
          "exception": false,
          "start_time": "2022-09-16T11:23:01.683934",
          "status": "completed"
        },
        "tags": []
      },
      "outputs": [
        {
          "data": {
            "image/png": "[encoded data removed]",
            "text/plain": [
              "<Figure size 432x288 with 1 Axes>"
            ]
          },
          "metadata": {
            "needs_background": "light"
          },
          "output_type": "display_data"
        }
      ],
      "source": [
        "ax = sns.countplot(x='Heart Disease', hue='FBS over 120', data=df)\n",
        "sns.set_context('notebook',font_scale = 0.5)\n",
        "plt.show()"
      ]
    },
    {
      "cell_type": "markdown",
      "id": "5a233122",
      "metadata": {
        "id": "5a233122",
        "papermill": {
          "duration": 0.026393,
          "end_time": "2022-09-16T11:23:01.948017",
          "exception": false,
          "start_time": "2022-09-16T11:23:01.921624",
          "status": "completed"
        },
        "tags": []
      },
      "source": [
        "***EKG results*** - The 2nd value of EKG could influence on heart disease prediction"
      ]
    },
    {
      "cell_type": "code",
      "execution_count": 61,
      "id": "gbElh2vr02ib",
      "metadata": {
        "colab": {
          "base_uri": "https://localhost:8080/",
          "height": 353
        },
        "id": "gbElh2vr02ib",
        "outputId": "26086aa1-6fd1-4758-8342-d45891b2a500"
      },
      "outputs": [
        {
          "name": "stderr",
          "output_type": "stream",
          "text": [
            "/usr/local/lib/python3.7/dist-packages/seaborn/_decorators.py:43: FutureWarning: Pass the following variable as a keyword arg: x. From version 0.12, the only valid positional argument will be `data`, and passing other arguments without an explicit keyword will result in an error or misinterpretation.\n",
            "  FutureWarning\n"
          ]
        },
        {
          "data": {
            "image/png": "[encoded data removed]",
            "text/plain": [
              "<Figure size 432x288 with 1 Axes>"
            ]
          },
          "metadata": {
            "needs_background": "light"
          },
          "output_type": "display_data"
        }
      ],
      "source": [
        "sns.countplot(data['EKG results'])\n",
        "plt.show()"
      ]
    },
    {
      "cell_type": "code",
      "execution_count": 62,
      "id": "bc65a4f7",
      "metadata": {
        "colab": {
          "base_uri": "https://localhost:8080/",
          "height": 327
        },
        "execution": {
          "iopub.execute_input": "2022-09-16T11:23:02.003234Z",
          "iopub.status.busy": "2022-09-16T11:23:02.001848Z",
          "iopub.status.idle": "2022-09-16T11:23:02.204742Z",
          "shell.execute_reply": "2022-09-16T11:23:02.203785Z"
        },
        "id": "bc65a4f7",
        "outputId": "577e6522-e4c6-4927-bbce-790d794a491d",
        "papermill": {
          "duration": 0.232918,
          "end_time": "2022-09-16T11:23:02.207175",
          "exception": false,
          "start_time": "2022-09-16T11:23:01.974257",
          "status": "completed"
        },
        "tags": []
      },
      "outputs": [
        {
          "data": {
            "image/png": "[encoded data removed]",
            "text/plain": [
              "<Figure size 432x288 with 1 Axes>"
            ]
          },
          "metadata": {
            "needs_background": "light"
          },
          "output_type": "display_data"
        }
      ],
      "source": [
        "plt.suptitle('EKG results vs Heart Disease')\n",
        "sns.countplot(data=df, x='Heart Disease', hue='EKG results')\n",
        "plt.show()"
      ]
    },
    {
      "cell_type": "markdown",
      "id": "ad52ef22",
      "metadata": {
        "id": "ad52ef22",
        "papermill": {
          "duration": 0.027539,
          "end_time": "2022-09-16T11:23:02.261454",
          "exception": false,
          "start_time": "2022-09-16T11:23:02.233915",
          "status": "completed"
        },
        "tags": []
      },
      "source": [
        "***Max HR*** - From the below graph we can observe that people with lower HR max have a higher likelihood of heart disease than those with higher HR max. Furthermore, we can observe explicit cut of/threshold where below 120 HR max objects have a higher probability to have problem with heart."
      ]
    },
    {
      "cell_type": "code",
      "execution_count": 63,
      "id": "cfed8c4c",
      "metadata": {
        "colab": {
          "base_uri": "https://localhost:8080/",
          "height": 388
        },
        "execution": {
          "iopub.execute_input": "2022-09-16T11:23:02.316681Z",
          "iopub.status.busy": "2022-09-16T11:23:02.315884Z",
          "iopub.status.idle": "2022-09-16T11:23:02.736391Z",
          "shell.execute_reply": "2022-09-16T11:23:02.735162Z"
        },
        "id": "cfed8c4c",
        "outputId": "d7a7d5e0-e9b5-47ab-ded4-d843c86ba573",
        "papermill": {
          "duration": 0.451087,
          "end_time": "2022-09-16T11:23:02.739057",
          "exception": false,
          "start_time": "2022-09-16T11:23:02.287970",
          "status": "completed"
        },
        "tags": []
      },
      "outputs": [
        {
          "data": {
            "image/png": "[encoded data removed]",
            "text/plain": [
              "<Figure size 720x360 with 2 Axes>"
            ]
          },
          "metadata": {
            "needs_background": "light"
          },
          "output_type": "display_data"
        }
      ],
      "source": [
        "plt.figure(figsize=(10,5))\n",
        "\n",
        "plt.subplot(1,2,1)\n",
        "plt.suptitle(\"Max HR\")\n",
        "sns.scatterplot(data=df, x='Max HR', y=np.zeros(len(df['Max HR'])), hue=target)\n",
        "\n",
        "plt.subplot(1,2,2)\n",
        "sns.scatterplot(data=df, x='Max HR', y='Age', hue=target)\n",
        "\n",
        "plt.show()"
      ]
    },
    {
      "cell_type": "markdown",
      "id": "e135d511",
      "metadata": {
        "id": "e135d511",
        "papermill": {
          "duration": 0.02697,
          "end_time": "2022-09-16T11:23:02.793178",
          "exception": false,
          "start_time": "2022-09-16T11:23:02.766208",
          "status": "completed"
        },
        "tags": []
      },
      "source": [
        "***Excercise angina*** - Chest pain after a high excercise intensity or stress can casues a presence of heart failure"
      ]
    },
    {
      "cell_type": "code",
      "execution_count": 64,
      "id": "2db1f163",
      "metadata": {
        "colab": {
          "base_uri": "https://localhost:8080/",
          "height": 327
        },
        "execution": {
          "iopub.execute_input": "2022-09-16T11:23:02.850242Z",
          "iopub.status.busy": "2022-09-16T11:23:02.849487Z",
          "iopub.status.idle": "2022-09-16T11:23:03.032423Z",
          "shell.execute_reply": "2022-09-16T11:23:03.031448Z"
        },
        "id": "2db1f163",
        "outputId": "28914507-cde1-49c2-c465-6094025331bf",
        "papermill": {
          "duration": 0.214482,
          "end_time": "2022-09-16T11:23:03.034885",
          "exception": false,
          "start_time": "2022-09-16T11:23:02.820403",
          "status": "completed"
        },
        "tags": []
      },
      "outputs": [
        {
          "data": {
            "image/png": "[encoded data removed]",
            "text/plain": [
              "<Figure size 432x288 with 1 Axes>"
            ]
          },
          "metadata": {
            "needs_background": "light"
          },
          "output_type": "display_data"
        }
      ],
      "source": [
        "plt.suptitle('Excercise angina vs Heart Disease')\n",
        "sns.countplot(data=df, x='Heart Disease', hue='Exercise angina')\n",
        "plt.show()"
      ]
    },
    {
      "cell_type": "markdown",
      "id": "ad5fdfc1",
      "metadata": {
        "id": "ad5fdfc1",
        "papermill": {
          "duration": 0.026752,
          "end_time": "2022-09-16T11:23:03.089573",
          "exception": false,
          "start_time": "2022-09-16T11:23:03.062821",
          "status": "completed"
        },
        "tags": []
      },
      "source": [
        "***ST depression*** - Increased ST deprsesion increase heart disease. Nevetheless it can be observe on the bottom figure that males have higher probability of having depression."
      ]
    },
    {
      "cell_type": "code",
      "execution_count": 65,
      "id": "808921db",
      "metadata": {
        "colab": {
          "base_uri": "https://localhost:8080/",
          "height": 662
        },
        "execution": {
          "iopub.execute_input": "2022-09-16T11:23:03.145789Z",
          "iopub.status.busy": "2022-09-16T11:23:03.145337Z",
          "iopub.status.idle": "2022-09-16T11:23:03.754364Z",
          "shell.execute_reply": "2022-09-16T11:23:03.753041Z"
        },
        "id": "808921db",
        "outputId": "e09ecaad-80b5-4d84-aa26-8578aa3ba81a",
        "papermill": {
          "duration": 0.640335,
          "end_time": "2022-09-16T11:23:03.756917",
          "exception": false,
          "start_time": "2022-09-16T11:23:03.116582",
          "status": "completed"
        },
        "tags": []
      },
      "outputs": [
        {
          "data": {
            "image/png": "[encoded data removed]",
            "text/plain": [
              "<Figure size 432x288 with 1 Axes>"
            ]
          },
          "metadata": {
            "needs_background": "light"
          },
          "output_type": "display_data"
        },
        {
          "data": {
            "image/png": "[encoded data removed]",
            "text/plain": [
              "<Figure size 360x360 with 1 Axes>"
            ]
          },
          "metadata": {
            "needs_background": "light"
          },
          "output_type": "display_data"
        }
      ],
      "source": [
        "plt.suptitle(\"ST Depression\")\n",
        "sns.scatterplot(data=df, x='ST depression', y=np.zeros(len(df['ST depression'])), hue=target)\n",
        "\n",
        "\n",
        "ax = sns.catplot(x='Sex', y='ST depression', kind='box',  data = df)\n",
        "plt.show()"
      ]
    },
    {
      "cell_type": "markdown",
      "id": "74f3d3c9",
      "metadata": {
        "id": "74f3d3c9",
        "papermill": {
          "duration": 0.027428,
          "end_time": "2022-09-16T11:23:03.812212",
          "exception": false,
          "start_time": "2022-09-16T11:23:03.784784",
          "status": "completed"
        },
        "tags": []
      },
      "source": [
        "***Slope of ST***"
      ]
    },
    {
      "cell_type": "code",
      "execution_count": 77,
      "id": "acd5611f",
      "metadata": {
        "colab": {
          "base_uri": "https://localhost:8080/",
          "height": 314
        },
        "execution": {
          "iopub.execute_input": "2022-09-16T11:23:03.879039Z",
          "iopub.status.busy": "2022-09-16T11:23:03.878103Z",
          "iopub.status.idle": "2022-09-16T11:23:04.076578Z",
          "shell.execute_reply": "2022-09-16T11:23:04.075291Z"
        },
        "id": "acd5611f",
        "outputId": "94755925-0bd2-444d-b115-96912ec7befc",
        "papermill": {
          "duration": 0.237904,
          "end_time": "2022-09-16T11:23:04.079024",
          "exception": false,
          "start_time": "2022-09-16T11:23:03.841120",
          "status": "completed"
        },
        "tags": []
      },
      "outputs": [
        {
          "data": {
            "image/png": "[encoded data removed]",
            "text/plain": [
              "<Figure size 432x288 with 1 Axes>"
            ]
          },
          "metadata": {
            "needs_background": "light"
          },
          "output_type": "display_data"
        }
      ],
      "source": [
        "plt.suptitle('Slope of ST vs Heart Disease')\n",
        "sns.countplot(data=df, x='Heart Disease', hue='Slope of ST')\n",
        "sns.set_context(font_scale = 1)\n",
        "plt.show()"
      ]
    },
    {
      "cell_type": "code",
      "execution_count": 78,
      "id": "4SsGhTGV1VBA",
      "metadata": {
        "colab": {
          "base_uri": "https://localhost:8080/",
          "height": 285
        },
        "id": "4SsGhTGV1VBA",
        "outputId": "0af4210c-0705-4829-a241-5f76537be215"
      },
      "outputs": [
        {
          "data": {
            "image/png": "[encoded data removed]",
            "text/plain": [
              "<Figure size 432x288 with 1 Axes>"
            ]
          },
          "metadata": {
            "needs_background": "light"
          },
          "output_type": "display_data"
        }
      ],
      "source": [
        "sns.violinplot(x=\"Exercise angina\",y=\"Age\",data=data,palette=[\"r\", \"c\", \"y\"],hue=\"Thallium\")\n",
        "plt.show()"
      ]
    },
    {
      "cell_type": "markdown",
      "id": "DOV4uwwg1xm8",
      "metadata": {
        "id": "DOV4uwwg1xm8"
      },
      "source": [
        "People with fixed defect are more likely to have heart disease."
      ]
    },
    {
      "cell_type": "markdown",
      "id": "e092ce11",
      "metadata": {
        "id": "e092ce11",
        "papermill": {
          "duration": 0.027672,
          "end_time": "2022-09-16T11:23:04.135061",
          "exception": false,
          "start_time": "2022-09-16T11:23:04.107389",
          "status": "completed"
        },
        "tags": []
      },
      "source": [
        "**Dummies variable**"
      ]
    },
    {
      "cell_type": "code",
      "execution_count": 79,
      "id": "26f5ef13",
      "metadata": {
        "colab": {
          "base_uri": "https://localhost:8080/",
          "height": 771
        },
        "execution": {
          "iopub.execute_input": "2022-09-16T11:23:04.193386Z",
          "iopub.status.busy": "2022-09-16T11:23:04.192653Z",
          "iopub.status.idle": "2022-09-16T11:23:04.275343Z",
          "shell.execute_reply": "2022-09-16T11:23:04.274109Z"
        },
        "id": "26f5ef13",
        "outputId": "07991334-1d8d-4b9c-98be-3709f72c0f3c",
        "papermill": {
          "duration": 0.114504,
          "end_time": "2022-09-16T11:23:04.277612",
          "exception": false,
          "start_time": "2022-09-16T11:23:04.163108",
          "status": "completed"
        },
        "tags": []
      },
      "outputs": [
        {
          "data": {
            "text/html": [
              "\n",
              "  <div id=\"df-9cb61b46-5045-4695-884a-a1a7a3387514\">\n",
              "    <div class=\"colab-df-container\">\n",
              "      <div>\n",
              "<style scoped>\n",
              "    .dataframe tbody tr th:only-of-type {\n",
              "        vertical-align: middle;\n",
              "    }\n",
              "\n",
              "    .dataframe tbody tr th {\n",
              "        vertical-align: top;\n",
              "    }\n",
              "\n",
              "    .dataframe thead th {\n",
              "        text-align: right;\n",
              "    }\n",
              "</style>\n",
              "<table border=\"1\" class=\"dataframe\">\n",
              "  <thead>\n",
              "    <tr style=\"text-align: right;\">\n",
              "      <th></th>\n",
              "      <th>count</th>\n",
              "      <th>mean</th>\n",
              "      <th>std</th>\n",
              "      <th>min</th>\n",
              "      <th>25%</th>\n",
              "      <th>50%</th>\n",
              "      <th>75%</th>\n",
              "      <th>max</th>\n",
              "    </tr>\n",
              "  </thead>\n",
              "  <tbody>\n",
              "    <tr>\n",
              "      <th>Age</th>\n",
              "      <td>270.0</td>\n",
              "      <td>54.433333</td>\n",
              "      <td>9.109067</td>\n",
              "      <td>29.0</td>\n",
              "      <td>48.0</td>\n",
              "      <td>55.0</td>\n",
              "      <td>61.0</td>\n",
              "      <td>77.0</td>\n",
              "    </tr>\n",
              "    <tr>\n",
              "      <th>Sex</th>\n",
              "      <td>270.0</td>\n",
              "      <td>0.677778</td>\n",
              "      <td>0.468195</td>\n",
              "      <td>0.0</td>\n",
              "      <td>0.0</td>\n",
              "      <td>1.0</td>\n",
              "      <td>1.0</td>\n",
              "      <td>1.0</td>\n",
              "    </tr>\n",
              "    <tr>\n",
              "      <th>Chest pain type</th>\n",
              "      <td>270.0</td>\n",
              "      <td>3.174074</td>\n",
              "      <td>0.950090</td>\n",
              "      <td>1.0</td>\n",
              "      <td>3.0</td>\n",
              "      <td>3.0</td>\n",
              "      <td>4.0</td>\n",
              "      <td>4.0</td>\n",
              "    </tr>\n",
              "    <tr>\n",
              "      <th>BP</th>\n",
              "      <td>270.0</td>\n",
              "      <td>131.344444</td>\n",
              "      <td>17.861608</td>\n",
              "      <td>94.0</td>\n",
              "      <td>120.0</td>\n",
              "      <td>130.0</td>\n",
              "      <td>140.0</td>\n",
              "      <td>200.0</td>\n",
              "    </tr>\n",
              "    <tr>\n",
              "      <th>Cholesterol</th>\n",
              "      <td>270.0</td>\n",
              "      <td>249.659259</td>\n",
              "      <td>51.686237</td>\n",
              "      <td>126.0</td>\n",
              "      <td>213.0</td>\n",
              "      <td>245.0</td>\n",
              "      <td>280.0</td>\n",
              "      <td>564.0</td>\n",
              "    </tr>\n",
              "    <tr>\n",
              "      <th>FBS over 120</th>\n",
              "      <td>270.0</td>\n",
              "      <td>0.148148</td>\n",
              "      <td>0.355906</td>\n",
              "      <td>0.0</td>\n",
              "      <td>0.0</td>\n",
              "      <td>0.0</td>\n",
              "      <td>0.0</td>\n",
              "      <td>1.0</td>\n",
              "    </tr>\n",
              "    <tr>\n",
              "      <th>EKG results</th>\n",
              "      <td>270.0</td>\n",
              "      <td>1.022222</td>\n",
              "      <td>0.997891</td>\n",
              "      <td>0.0</td>\n",
              "      <td>0.0</td>\n",
              "      <td>2.0</td>\n",
              "      <td>2.0</td>\n",
              "      <td>2.0</td>\n",
              "    </tr>\n",
              "    <tr>\n",
              "      <th>Max HR</th>\n",
              "      <td>270.0</td>\n",
              "      <td>149.677778</td>\n",
              "      <td>23.165717</td>\n",
              "      <td>71.0</td>\n",
              "      <td>133.0</td>\n",
              "      <td>153.5</td>\n",
              "      <td>166.0</td>\n",
              "      <td>202.0</td>\n",
              "    </tr>\n",
              "    <tr>\n",
              "      <th>Exercise angina</th>\n",
              "      <td>270.0</td>\n",
              "      <td>0.329630</td>\n",
              "      <td>0.470952</td>\n",
              "      <td>0.0</td>\n",
              "      <td>0.0</td>\n",
              "      <td>0.0</td>\n",
              "      <td>1.0</td>\n",
              "      <td>1.0</td>\n",
              "    </tr>\n",
              "    <tr>\n",
              "      <th>ST depression</th>\n",
              "      <td>270.0</td>\n",
              "      <td>1.050000</td>\n",
              "      <td>1.145210</td>\n",
              "      <td>0.0</td>\n",
              "      <td>0.0</td>\n",
              "      <td>0.8</td>\n",
              "      <td>1.6</td>\n",
              "      <td>6.2</td>\n",
              "    </tr>\n",
              "    <tr>\n",
              "      <th>Slope of ST</th>\n",
              "      <td>270.0</td>\n",
              "      <td>1.585185</td>\n",
              "      <td>0.614390</td>\n",
              "      <td>1.0</td>\n",
              "      <td>1.0</td>\n",
              "      <td>2.0</td>\n",
              "      <td>2.0</td>\n",
              "      <td>3.0</td>\n",
              "    </tr>\n",
              "    <tr>\n",
              "      <th>Number of vessels fluro</th>\n",
              "      <td>270.0</td>\n",
              "      <td>0.670370</td>\n",
              "      <td>0.943896</td>\n",
              "      <td>0.0</td>\n",
              "      <td>0.0</td>\n",
              "      <td>0.0</td>\n",
              "      <td>1.0</td>\n",
              "      <td>3.0</td>\n",
              "    </tr>\n",
              "    <tr>\n",
              "      <th>Thallium</th>\n",
              "      <td>270.0</td>\n",
              "      <td>4.696296</td>\n",
              "      <td>1.940659</td>\n",
              "      <td>3.0</td>\n",
              "      <td>3.0</td>\n",
              "      <td>3.0</td>\n",
              "      <td>7.0</td>\n",
              "      <td>7.0</td>\n",
              "    </tr>\n",
              "    <tr>\n",
              "      <th>Chest pain type_2</th>\n",
              "      <td>270.0</td>\n",
              "      <td>0.155556</td>\n",
              "      <td>0.363107</td>\n",
              "      <td>0.0</td>\n",
              "      <td>0.0</td>\n",
              "      <td>0.0</td>\n",
              "      <td>0.0</td>\n",
              "      <td>1.0</td>\n",
              "    </tr>\n",
              "    <tr>\n",
              "      <th>Chest pain type_3</th>\n",
              "      <td>270.0</td>\n",
              "      <td>0.292593</td>\n",
              "      <td>0.455798</td>\n",
              "      <td>0.0</td>\n",
              "      <td>0.0</td>\n",
              "      <td>0.0</td>\n",
              "      <td>1.0</td>\n",
              "      <td>1.0</td>\n",
              "    </tr>\n",
              "    <tr>\n",
              "      <th>Chest pain type_4</th>\n",
              "      <td>270.0</td>\n",
              "      <td>0.477778</td>\n",
              "      <td>0.500434</td>\n",
              "      <td>0.0</td>\n",
              "      <td>0.0</td>\n",
              "      <td>0.0</td>\n",
              "      <td>1.0</td>\n",
              "      <td>1.0</td>\n",
              "    </tr>\n",
              "    <tr>\n",
              "      <th>EKG results_1</th>\n",
              "      <td>270.0</td>\n",
              "      <td>0.007407</td>\n",
              "      <td>0.085906</td>\n",
              "      <td>0.0</td>\n",
              "      <td>0.0</td>\n",
              "      <td>0.0</td>\n",
              "      <td>0.0</td>\n",
              "      <td>1.0</td>\n",
              "    </tr>\n",
              "    <tr>\n",
              "      <th>EKG results_2</th>\n",
              "      <td>270.0</td>\n",
              "      <td>0.507407</td>\n",
              "      <td>0.500874</td>\n",
              "      <td>0.0</td>\n",
              "      <td>0.0</td>\n",
              "      <td>1.0</td>\n",
              "      <td>1.0</td>\n",
              "      <td>1.0</td>\n",
              "    </tr>\n",
              "    <tr>\n",
              "      <th>Number of vessels fluro_1</th>\n",
              "      <td>270.0</td>\n",
              "      <td>0.214815</td>\n",
              "      <td>0.411456</td>\n",
              "      <td>0.0</td>\n",
              "      <td>0.0</td>\n",
              "      <td>0.0</td>\n",
              "      <td>0.0</td>\n",
              "      <td>1.0</td>\n",
              "    </tr>\n",
              "    <tr>\n",
              "      <th>Number of vessels fluro_2</th>\n",
              "      <td>270.0</td>\n",
              "      <td>0.122222</td>\n",
              "      <td>0.328151</td>\n",
              "      <td>0.0</td>\n",
              "      <td>0.0</td>\n",
              "      <td>0.0</td>\n",
              "      <td>0.0</td>\n",
              "      <td>1.0</td>\n",
              "    </tr>\n",
              "    <tr>\n",
              "      <th>Number of vessels fluro_3</th>\n",
              "      <td>270.0</td>\n",
              "      <td>0.070370</td>\n",
              "      <td>0.256245</td>\n",
              "      <td>0.0</td>\n",
              "      <td>0.0</td>\n",
              "      <td>0.0</td>\n",
              "      <td>0.0</td>\n",
              "      <td>1.0</td>\n",
              "    </tr>\n",
              "    <tr>\n",
              "      <th>Thallium_6</th>\n",
              "      <td>270.0</td>\n",
              "      <td>0.051852</td>\n",
              "      <td>0.222140</td>\n",
              "      <td>0.0</td>\n",
              "      <td>0.0</td>\n",
              "      <td>0.0</td>\n",
              "      <td>0.0</td>\n",
              "      <td>1.0</td>\n",
              "    </tr>\n",
              "    <tr>\n",
              "      <th>Thallium_7</th>\n",
              "      <td>270.0</td>\n",
              "      <td>0.385185</td>\n",
              "      <td>0.487543</td>\n",
              "      <td>0.0</td>\n",
              "      <td>0.0</td>\n",
              "      <td>0.0</td>\n",
              "      <td>1.0</td>\n",
              "      <td>1.0</td>\n",
              "    </tr>\n",
              "  </tbody>\n",
              "</table>\n",
              "</div>\n",
              "      <button class=\"colab-df-convert\" onclick=\"convertToInteractive('df-9cb61b46-5045-4695-884a-a1a7a3387514')\"\n",
              "              title=\"Convert this dataframe to an interactive table.\"\n",
              "              style=\"display:none;\">\n",
              "        \n",
              "  <svg xmlns=\"http://www.w3.org/2000/svg\" height=\"24px\"viewBox=\"0 0 24 24\"\n",
              "       width=\"24px\">\n",
              "    <path d=\"M0 0h24v24H0V0z\" fill=\"none\"/>\n",
              "    <path d=\"M18.56 5.44l.94 2.06.94-2.06 2.06-.94-2.06-.94-.94-2.06-.94 2.06-2.06.94zm-11 1L8.5 8.5l.94-2.06 2.06-.94-2.06-.94L8.5 2.5l-.94 2.06-2.06.94zm10 10l.94 2.06.94-2.06 2.06-.94-2.06-.94-.94-2.06-.94 2.06-2.06.94z\"/><path d=\"M17.41 7.96l-1.37-1.37c-.4-.4-.92-.59-1.43-.59-.52 0-1.04.2-1.43.59L10.3 9.45l-7.72 7.72c-.78.78-.78 2.05 0 2.83L4 21.41c.39.39.9.59 1.41.59.51 0 1.02-.2 1.41-.59l7.78-7.78 2.81-2.81c.8-.78.8-2.07 0-2.86zM5.41 20L4 18.59l7.72-7.72 1.47 1.35L5.41 20z\"/>\n",
              "  </svg>\n",
              "      </button>\n",
              "      \n",
              "  <style>\n",
              "    .colab-df-container {\n",
              "      display:flex;\n",
              "      flex-wrap:wrap;\n",
              "      gap: 12px;\n",
              "    }\n",
              "\n",
              "    .colab-df-convert {\n",
              "      background-color: #E8F0FE;\n",
              "      border: none;\n",
              "      border-radius: 50%;\n",
              "      cursor: pointer;\n",
              "      display: none;\n",
              "      fill: #1967D2;\n",
              "      height: 32px;\n",
              "      padding: 0 0 0 0;\n",
              "      width: 32px;\n",
              "    }\n",
              "\n",
              "    .colab-df-convert:hover {\n",
              "      background-color: #E2EBFA;\n",
              "      box-shadow: 0px 1px 2px rgba(60, 64, 67, 0.3), 0px 1px 3px 1px rgba(60, 64, 67, 0.15);\n",
              "      fill: #174EA6;\n",
              "    }\n",
              "\n",
              "    [theme=dark] .colab-df-convert {\n",
              "      background-color: #3B4455;\n",
              "      fill: #D2E3FC;\n",
              "    }\n",
              "\n",
              "    [theme=dark] .colab-df-convert:hover {\n",
              "      background-color: #434B5C;\n",
              "      box-shadow: 0px 1px 3px 1px rgba(0, 0, 0, 0.15);\n",
              "      filter: drop-shadow(0px 1px 2px rgba(0, 0, 0, 0.3));\n",
              "      fill: #FFFFFF;\n",
              "    }\n",
              "  </style>\n",
              "\n",
              "      <script>\n",
              "        const buttonEl =\n",
              "          document.querySelector('#df-9cb61b46-5045-4695-884a-a1a7a3387514 button.colab-df-convert');\n",
              "        buttonEl.style.display =\n",
              "          google.colab.kernel.accessAllowed ? 'block' : 'none';\n",
              "\n",
              "        async function convertToInteractive(key) {\n",
              "          const element = document.querySelector('#df-9cb61b46-5045-4695-884a-a1a7a3387514');\n",
              "          const dataTable =\n",
              "            await google.colab.kernel.invokeFunction('convertToInteractive',\n",
              "                                                     [key], {});\n",
              "          if (!dataTable) return;\n",
              "\n",
              "          const docLinkHtml = 'Like what you see? Visit the ' +\n",
              "            '<a target=\"_blank\" href=https://colab.research.google.com/notebooks/data_table.ipynb>data table notebook</a>'\n",
              "            + ' to learn more about interactive tables.';\n",
              "          element.innerHTML = '';\n",
              "          dataTable['output_type'] = 'display_data';\n",
              "          await google.colab.output.renderOutput(dataTable, element);\n",
              "          const docLink = document.createElement('div');\n",
              "          docLink.innerHTML = docLinkHtml;\n",
              "          element.appendChild(docLink);\n",
              "        }\n",
              "      </script>\n",
              "    </div>\n",
              "  </div>\n",
              "  "
            ],
            "text/plain": [
              "                           count        mean        std    min    25%    50%  \\\n",
              "Age                        270.0   54.433333   9.109067   29.0   48.0   55.0   \n",
              "Sex                        270.0    0.677778   0.468195    0.0    0.0    1.0   \n",
              "Chest pain type            270.0    3.174074   0.950090    1.0    3.0    3.0   \n",
              "BP                         270.0  131.344444  17.861608   94.0  120.0  130.0   \n",
              "Cholesterol                270.0  249.659259  51.686237  126.0  213.0  245.0   \n",
              "FBS over 120               270.0    0.148148   0.355906    0.0    0.0    0.0   \n",
              "EKG results                270.0    1.022222   0.997891    0.0    0.0    2.0   \n",
              "Max HR                     270.0  149.677778  23.165717   71.0  133.0  153.5   \n",
              "Exercise angina            270.0    0.329630   0.470952    0.0    0.0    0.0   \n",
              "ST depression              270.0    1.050000   1.145210    0.0    0.0    0.8   \n",
              "Slope of ST                270.0    1.585185   0.614390    1.0    1.0    2.0   \n",
              "Number of vessels fluro    270.0    0.670370   0.943896    0.0    0.0    0.0   \n",
              "Thallium                   270.0    4.696296   1.940659    3.0    3.0    3.0   \n",
              "Chest pain type_2          270.0    0.155556   0.363107    0.0    0.0    0.0   \n",
              "Chest pain type_3          270.0    0.292593   0.455798    0.0    0.0    0.0   \n",
              "Chest pain type_4          270.0    0.477778   0.500434    0.0    0.0    0.0   \n",
              "EKG results_1              270.0    0.007407   0.085906    0.0    0.0    0.0   \n",
              "EKG results_2              270.0    0.507407   0.500874    0.0    0.0    1.0   \n",
              "Number of vessels fluro_1  270.0    0.214815   0.411456    0.0    0.0    0.0   \n",
              "Number of vessels fluro_2  270.0    0.122222   0.328151    0.0    0.0    0.0   \n",
              "Number of vessels fluro_3  270.0    0.070370   0.256245    0.0    0.0    0.0   \n",
              "Thallium_6                 270.0    0.051852   0.222140    0.0    0.0    0.0   \n",
              "Thallium_7                 270.0    0.385185   0.487543    0.0    0.0    0.0   \n",
              "\n",
              "                             75%    max  \n",
              "Age                         61.0   77.0  \n",
              "Sex                          1.0    1.0  \n",
              "Chest pain type              4.0    4.0  \n",
              "BP                         140.0  200.0  \n",
              "Cholesterol                280.0  564.0  \n",
              "FBS over 120                 0.0    1.0  \n",
              "EKG results                  2.0    2.0  \n",
              "Max HR                     166.0  202.0  \n",
              "Exercise angina              1.0    1.0  \n",
              "ST depression                1.6    6.2  \n",
              "Slope of ST                  2.0    3.0  \n",
              "Number of vessels fluro      1.0    3.0  \n",
              "Thallium                     7.0    7.0  \n",
              "Chest pain type_2            0.0    1.0  \n",
              "Chest pain type_3            1.0    1.0  \n",
              "Chest pain type_4            1.0    1.0  \n",
              "EKG results_1                0.0    1.0  \n",
              "EKG results_2                1.0    1.0  \n",
              "Number of vessels fluro_1    0.0    1.0  \n",
              "Number of vessels fluro_2    0.0    1.0  \n",
              "Number of vessels fluro_3    0.0    1.0  \n",
              "Thallium_6                   0.0    1.0  \n",
              "Thallium_7                   1.0    1.0  "
            ]
          },
          "execution_count": 79,
          "metadata": {},
          "output_type": "execute_result"
        }
      ],
      "source": [
        "Chest_pain_type = pd.get_dummies(df['Chest pain type'], prefix='Chest pain type', drop_first=True)\n",
        "EKG_results = pd.get_dummies(df['EKG results'], prefix='EKG results', drop_first=True)\n",
        "Number_of_vessels_fluro = pd.get_dummies(df['Number of vessels fluro'], prefix='Number of vessels fluro', drop_first=True)\n",
        "Thallium = pd.get_dummies(df['Thallium'], prefix='Thallium', drop_first=True)\n",
        "\n",
        "frames = [df, Chest_pain_type, EKG_results, Number_of_vessels_fluro, Thallium]\n",
        "df = pd.concat(frames, axis=1)\n",
        "\n",
        "df.drop(columns = ['Chest pain type', 'EKG results', 'Number of vessels fluro', 'Thallium', 'Slope of ST'])\n",
        "\n",
        "target = df['Heart Disease'].map({'Presence':1, 'Absence':0})\n",
        "inputs = df.drop(['Heart Disease'], axis=1)\n",
        "\n",
        "df.describe().T"
      ]
    },
    {
      "cell_type": "markdown",
      "id": "5fbfe203",
      "metadata": {
        "id": "5fbfe203",
        "papermill": {
          "duration": 0.028089,
          "end_time": "2022-09-16T11:23:04.334183",
          "exception": false,
          "start_time": "2022-09-16T11:23:04.306094",
          "status": "completed"
        },
        "tags": []
      },
      "source": [
        "**Balancing the dataset with standarization**"
      ]
    },
    {
      "cell_type": "code",
      "execution_count": 80,
      "id": "3b767da1",
      "metadata": {
        "colab": {
          "base_uri": "https://localhost:8080/"
        },
        "execution": {
          "iopub.execute_input": "2022-09-16T11:23:04.393382Z",
          "iopub.status.busy": "2022-09-16T11:23:04.392674Z",
          "iopub.status.idle": "2022-09-16T11:23:04.402240Z",
          "shell.execute_reply": "2022-09-16T11:23:04.400785Z"
        },
        "id": "3b767da1",
        "outputId": "65ef1c09-5a92-4fa1-82f4-14590b97eeb8",
        "papermill": {
          "duration": 0.042079,
          "end_time": "2022-09-16T11:23:04.404759",
          "exception": false,
          "start_time": "2022-09-16T11:23:04.362680",
          "status": "completed"
        },
        "tags": []
      },
      "outputs": [
        {
          "name": "stdout",
          "output_type": "stream",
          "text": [
            "Indices before balancing data: 270\n",
            "Idices to delete: 30\n"
          ]
        }
      ],
      "source": [
        "one_target = int(np.sum(target))\n",
        "zero_counter = 0\n",
        "indices_to_remove = []\n",
        "\n",
        "for i in range(target.shape[0]):\n",
        "  if target[i] == 0:\n",
        "    zero_counter += 1\n",
        "    if zero_counter > one_target:\n",
        "      indices_to_remove.append(i)\n",
        "\n",
        "print(\"Indices before balancing data:\", target.shape[0])\n",
        "print(\"Idices to delete:\", len(indices_to_remove))"
      ]
    },
    {
      "cell_type": "code",
      "execution_count": 81,
      "id": "e17e3edd",
      "metadata": {
        "colab": {
          "base_uri": "https://localhost:8080/",
          "height": 386
        },
        "execution": {
          "iopub.execute_input": "2022-09-16T11:23:04.464363Z",
          "iopub.status.busy": "2022-09-16T11:23:04.463961Z",
          "iopub.status.idle": "2022-09-16T11:23:04.489062Z",
          "shell.execute_reply": "2022-09-16T11:23:04.487456Z"
        },
        "id": "e17e3edd",
        "outputId": "e51efb2c-7f83-41c4-a66d-2e44e1b69501",
        "papermill": {
          "duration": 0.057755,
          "end_time": "2022-09-16T11:23:04.491184",
          "exception": false,
          "start_time": "2022-09-16T11:23:04.433429",
          "status": "completed"
        },
        "tags": []
      },
      "outputs": [
        {
          "name": "stdout",
          "output_type": "stream",
          "text": [
            "Inputs after balancing data: 240\n",
            "Targets after balancing data: 240\n"
          ]
        },
        {
          "data": {
            "text/html": [
              "\n",
              "  <div id=\"df-0316a732-2063-4e45-80af-499e7889e930\">\n",
              "    <div class=\"colab-df-container\">\n",
              "      <div>\n",
              "<style scoped>\n",
              "    .dataframe tbody tr th:only-of-type {\n",
              "        vertical-align: middle;\n",
              "    }\n",
              "\n",
              "    .dataframe tbody tr th {\n",
              "        vertical-align: top;\n",
              "    }\n",
              "\n",
              "    .dataframe thead th {\n",
              "        text-align: right;\n",
              "    }\n",
              "</style>\n",
              "<table border=\"1\" class=\"dataframe\">\n",
              "  <thead>\n",
              "    <tr style=\"text-align: right;\">\n",
              "      <th></th>\n",
              "      <th>Age</th>\n",
              "      <th>Sex</th>\n",
              "      <th>Chest pain type</th>\n",
              "      <th>BP</th>\n",
              "      <th>Cholesterol</th>\n",
              "      <th>FBS over 120</th>\n",
              "      <th>EKG results</th>\n",
              "      <th>Max HR</th>\n",
              "      <th>Exercise angina</th>\n",
              "      <th>ST depression</th>\n",
              "      <th>...</th>\n",
              "      <th>Chest pain type_2</th>\n",
              "      <th>Chest pain type_3</th>\n",
              "      <th>Chest pain type_4</th>\n",
              "      <th>EKG results_1</th>\n",
              "      <th>EKG results_2</th>\n",
              "      <th>Number of vessels fluro_1</th>\n",
              "      <th>Number of vessels fluro_2</th>\n",
              "      <th>Number of vessels fluro_3</th>\n",
              "      <th>Thallium_6</th>\n",
              "      <th>Thallium_7</th>\n",
              "    </tr>\n",
              "  </thead>\n",
              "  <tbody>\n",
              "    <tr>\n",
              "      <th>0</th>\n",
              "      <td>70</td>\n",
              "      <td>1</td>\n",
              "      <td>4</td>\n",
              "      <td>130</td>\n",
              "      <td>322</td>\n",
              "      <td>0</td>\n",
              "      <td>2</td>\n",
              "      <td>109</td>\n",
              "      <td>0</td>\n",
              "      <td>2.4</td>\n",
              "      <td>...</td>\n",
              "      <td>0</td>\n",
              "      <td>0</td>\n",
              "      <td>1</td>\n",
              "      <td>0</td>\n",
              "      <td>1</td>\n",
              "      <td>0</td>\n",
              "      <td>0</td>\n",
              "      <td>1</td>\n",
              "      <td>0</td>\n",
              "      <td>0</td>\n",
              "    </tr>\n",
              "    <tr>\n",
              "      <th>1</th>\n",
              "      <td>67</td>\n",
              "      <td>0</td>\n",
              "      <td>3</td>\n",
              "      <td>115</td>\n",
              "      <td>564</td>\n",
              "      <td>0</td>\n",
              "      <td>2</td>\n",
              "      <td>160</td>\n",
              "      <td>0</td>\n",
              "      <td>1.6</td>\n",
              "      <td>...</td>\n",
              "      <td>0</td>\n",
              "      <td>1</td>\n",
              "      <td>0</td>\n",
              "      <td>0</td>\n",
              "      <td>1</td>\n",
              "      <td>0</td>\n",
              "      <td>0</td>\n",
              "      <td>0</td>\n",
              "      <td>0</td>\n",
              "      <td>1</td>\n",
              "    </tr>\n",
              "    <tr>\n",
              "      <th>2</th>\n",
              "      <td>57</td>\n",
              "      <td>1</td>\n",
              "      <td>2</td>\n",
              "      <td>124</td>\n",
              "      <td>261</td>\n",
              "      <td>0</td>\n",
              "      <td>0</td>\n",
              "      <td>141</td>\n",
              "      <td>0</td>\n",
              "      <td>0.3</td>\n",
              "      <td>...</td>\n",
              "      <td>1</td>\n",
              "      <td>0</td>\n",
              "      <td>0</td>\n",
              "      <td>0</td>\n",
              "      <td>0</td>\n",
              "      <td>0</td>\n",
              "      <td>0</td>\n",
              "      <td>0</td>\n",
              "      <td>0</td>\n",
              "      <td>1</td>\n",
              "    </tr>\n",
              "    <tr>\n",
              "      <th>3</th>\n",
              "      <td>64</td>\n",
              "      <td>1</td>\n",
              "      <td>4</td>\n",
              "      <td>128</td>\n",
              "      <td>263</td>\n",
              "      <td>0</td>\n",
              "      <td>0</td>\n",
              "      <td>105</td>\n",
              "      <td>1</td>\n",
              "      <td>0.2</td>\n",
              "      <td>...</td>\n",
              "      <td>0</td>\n",
              "      <td>0</td>\n",
              "      <td>1</td>\n",
              "      <td>0</td>\n",
              "      <td>0</td>\n",
              "      <td>1</td>\n",
              "      <td>0</td>\n",
              "      <td>0</td>\n",
              "      <td>0</td>\n",
              "      <td>1</td>\n",
              "    </tr>\n",
              "    <tr>\n",
              "      <th>4</th>\n",
              "      <td>74</td>\n",
              "      <td>0</td>\n",
              "      <td>2</td>\n",
              "      <td>120</td>\n",
              "      <td>269</td>\n",
              "      <td>0</td>\n",
              "      <td>2</td>\n",
              "      <td>121</td>\n",
              "      <td>1</td>\n",
              "      <td>0.2</td>\n",
              "      <td>...</td>\n",
              "      <td>1</td>\n",
              "      <td>0</td>\n",
              "      <td>0</td>\n",
              "      <td>0</td>\n",
              "      <td>1</td>\n",
              "      <td>1</td>\n",
              "      <td>0</td>\n",
              "      <td>0</td>\n",
              "      <td>0</td>\n",
              "      <td>0</td>\n",
              "    </tr>\n",
              "  </tbody>\n",
              "</table>\n",
              "<p>5 rows × 23 columns</p>\n",
              "</div>\n",
              "      <button class=\"colab-df-convert\" onclick=\"convertToInteractive('df-0316a732-2063-4e45-80af-499e7889e930')\"\n",
              "              title=\"Convert this dataframe to an interactive table.\"\n",
              "              style=\"display:none;\">\n",
              "        \n",
              "  <svg xmlns=\"http://www.w3.org/2000/svg\" height=\"24px\"viewBox=\"0 0 24 24\"\n",
              "       width=\"24px\">\n",
              "    <path d=\"M0 0h24v24H0V0z\" fill=\"none\"/>\n",
              "    <path d=\"M18.56 5.44l.94 2.06.94-2.06 2.06-.94-2.06-.94-.94-2.06-.94 2.06-2.06.94zm-11 1L8.5 8.5l.94-2.06 2.06-.94-2.06-.94L8.5 2.5l-.94 2.06-2.06.94zm10 10l.94 2.06.94-2.06 2.06-.94-2.06-.94-.94-2.06-.94 2.06-2.06.94z\"/><path d=\"M17.41 7.96l-1.37-1.37c-.4-.4-.92-.59-1.43-.59-.52 0-1.04.2-1.43.59L10.3 9.45l-7.72 7.72c-.78.78-.78 2.05 0 2.83L4 21.41c.39.39.9.59 1.41.59.51 0 1.02-.2 1.41-.59l7.78-7.78 2.81-2.81c.8-.78.8-2.07 0-2.86zM5.41 20L4 18.59l7.72-7.72 1.47 1.35L5.41 20z\"/>\n",
              "  </svg>\n",
              "      </button>\n",
              "      \n",
              "  <style>\n",
              "    .colab-df-container {\n",
              "      display:flex;\n",
              "      flex-wrap:wrap;\n",
              "      gap: 12px;\n",
              "    }\n",
              "\n",
              "    .colab-df-convert {\n",
              "      background-color: #E8F0FE;\n",
              "      border: none;\n",
              "      border-radius: 50%;\n",
              "      cursor: pointer;\n",
              "      display: none;\n",
              "      fill: #1967D2;\n",
              "      height: 32px;\n",
              "      padding: 0 0 0 0;\n",
              "      width: 32px;\n",
              "    }\n",
              "\n",
              "    .colab-df-convert:hover {\n",
              "      background-color: #E2EBFA;\n",
              "      box-shadow: 0px 1px 2px rgba(60, 64, 67, 0.3), 0px 1px 3px 1px rgba(60, 64, 67, 0.15);\n",
              "      fill: #174EA6;\n",
              "    }\n",
              "\n",
              "    [theme=dark] .colab-df-convert {\n",
              "      background-color: #3B4455;\n",
              "      fill: #D2E3FC;\n",
              "    }\n",
              "\n",
              "    [theme=dark] .colab-df-convert:hover {\n",
              "      background-color: #434B5C;\n",
              "      box-shadow: 0px 1px 3px 1px rgba(0, 0, 0, 0.15);\n",
              "      filter: drop-shadow(0px 1px 2px rgba(0, 0, 0, 0.3));\n",
              "      fill: #FFFFFF;\n",
              "    }\n",
              "  </style>\n",
              "\n",
              "      <script>\n",
              "        const buttonEl =\n",
              "          document.querySelector('#df-0316a732-2063-4e45-80af-499e7889e930 button.colab-df-convert');\n",
              "        buttonEl.style.display =\n",
              "          google.colab.kernel.accessAllowed ? 'block' : 'none';\n",
              "\n",
              "        async function convertToInteractive(key) {\n",
              "          const element = document.querySelector('#df-0316a732-2063-4e45-80af-499e7889e930');\n",
              "          const dataTable =\n",
              "            await google.colab.kernel.invokeFunction('convertToInteractive',\n",
              "                                                     [key], {});\n",
              "          if (!dataTable) return;\n",
              "\n",
              "          const docLinkHtml = 'Like what you see? Visit the ' +\n",
              "            '<a target=\"_blank\" href=https://colab.research.google.com/notebooks/data_table.ipynb>data table notebook</a>'\n",
              "            + ' to learn more about interactive tables.';\n",
              "          element.innerHTML = '';\n",
              "          dataTable['output_type'] = 'display_data';\n",
              "          await google.colab.output.renderOutput(dataTable, element);\n",
              "          const docLink = document.createElement('div');\n",
              "          docLink.innerHTML = docLinkHtml;\n",
              "          element.appendChild(docLink);\n",
              "        }\n",
              "      </script>\n",
              "    </div>\n",
              "  </div>\n",
              "  "
            ],
            "text/plain": [
              "   Age  Sex  Chest pain type   BP  Cholesterol  FBS over 120  EKG results  \\\n",
              "0   70    1                4  130          322             0            2   \n",
              "1   67    0                3  115          564             0            2   \n",
              "2   57    1                2  124          261             0            0   \n",
              "3   64    1                4  128          263             0            0   \n",
              "4   74    0                2  120          269             0            2   \n",
              "\n",
              "   Max HR  Exercise angina  ST depression  ...  Chest pain type_2  \\\n",
              "0     109                0            2.4  ...                  0   \n",
              "1     160                0            1.6  ...                  0   \n",
              "2     141                0            0.3  ...                  1   \n",
              "3     105                1            0.2  ...                  0   \n",
              "4     121                1            0.2  ...                  1   \n",
              "\n",
              "   Chest pain type_3  Chest pain type_4  EKG results_1  EKG results_2  \\\n",
              "0                  0                  1              0              1   \n",
              "1                  1                  0              0              1   \n",
              "2                  0                  0              0              0   \n",
              "3                  0                  1              0              0   \n",
              "4                  0                  0              0              1   \n",
              "\n",
              "   Number of vessels fluro_1  Number of vessels fluro_2  \\\n",
              "0                          0                          0   \n",
              "1                          0                          0   \n",
              "2                          0                          0   \n",
              "3                          1                          0   \n",
              "4                          1                          0   \n",
              "\n",
              "   Number of vessels fluro_3  Thallium_6  Thallium_7  \n",
              "0                          1           0           0  \n",
              "1                          0           0           1  \n",
              "2                          0           0           1  \n",
              "3                          0           0           1  \n",
              "4                          0           0           0  \n",
              "\n",
              "[5 rows x 23 columns]"
            ]
          },
          "execution_count": 81,
          "metadata": {},
          "output_type": "execute_result"
        }
      ],
      "source": [
        "balanced_inputs = inputs.drop(indices_to_remove, axis=0)\n",
        "balanced_targets = target.drop(indices_to_remove, axis=0)\n",
        "\n",
        "#reset indices\n",
        "reset_inputs = balanced_inputs.reset_index(drop=True)\n",
        "reset_targets = balanced_targets.reset_index(drop=True)\n",
        "\n",
        "print(\"Inputs after balancing data:\", reset_inputs.shape[0])\n",
        "print(\"Targets after balancing data:\", reset_targets.shape[0])\n",
        "\n",
        "balanced_inputs.head()"
      ]
    }
  ],
  "metadata": {
    "colab": {
      "collapsed_sections": [
        "fe98ee0b"
      ],
      "provenance": [],
      "toc_visible": true
    },
    "kernelspec": {
      "display_name": "Python 3",
      "language": "python",
      "name": "python3"
    },
    "language_info": {
      "codemirror_mode": {
        "name": "ipython",
        "version": 3
      },
      "file_extension": ".py",
      "mimetype": "text/x-python",
      "name": "python",
      "nbconvert_exporter": "python",
      "pygments_lexer": "ipython3",
      "version": "3.7.12"
    },
    "papermill": {
      "default_parameters": {},
      "duration": 30.846583,
      "end_time": "2022-09-16T11:23:14.049680",
      "environment_variables": {},
      "exception": null,
      "input_path": "__notebook__.ipynb",
      "output_path": "__notebook__.ipynb",
      "parameters": {},
      "start_time": "2022-09-16T11:22:43.203097",
      "version": "2.3.4"
    }
  },
  "nbformat": 4,
  "nbformat_minor": 5
}
